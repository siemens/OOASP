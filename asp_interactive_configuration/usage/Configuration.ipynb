{
 "cells": [
  {
   "attachments": {},
   "cell_type": "markdown",
   "id": "fa3633c8-0940-422d-a298-21470817fe33",
   "metadata": {},
   "source": [
    "# Load and render Configurations\n",
    "Copyright (c) 2022 Siemens AG Oesterreich\n",
    "SPDX-License-Identifier: MIT\n"
   ]
  },
  {
   "cell_type": "code",
   "execution_count": null,
   "id": "f3b791ff-45a9-430f-b6db-66bc0c339b2f",
   "metadata": {},
   "outputs": [],
   "source": [
    "%cd .."
   ]
  },
  {
   "cell_type": "markdown",
   "id": "1600d4d7-9833-48a1-9b9d-02a70f8767e2",
   "metadata": {},
   "source": [
    "### Import `OOASPConfiguration`"
   ]
  },
  {
   "cell_type": "code",
   "execution_count": 2,
   "id": "2c1b0233-be2e-4847-b7ac-0d986a463238",
   "metadata": {},
   "outputs": [],
   "source": [
    "from ooasp.config import OOASPConfiguration"
   ]
  },
  {
   "cell_type": "markdown",
   "id": "f8018a2d-ee9f-46e8-8e31-efe8a6c2b660",
   "metadata": {},
   "source": [
    "Create corresponding kb"
   ]
  },
  {
   "cell_type": "code",
   "execution_count": 3,
   "id": "ce12858a-eeb9-49b4-be93-3d15372f29e6",
   "metadata": {},
   "outputs": [],
   "source": [
    "from ooasp.kb import OOASPKnowledgeBase\n",
    "racks_kb = OOASPKnowledgeBase.from_file(\"racks_v1\",\"./examples/racks/kb.lp\")"
   ]
  },
  {
   "cell_type": "markdown",
   "id": "1d945f2d-6f75-4b47-bc5f-94c872ea30b4",
   "metadata": {},
   "source": [
    "Create empty configuration"
   ]
  },
  {
   "cell_type": "code",
   "execution_count": 4,
   "id": "b9574e0f-7e8b-424c-b8bd-8dbe457ca189",
   "metadata": {},
   "outputs": [],
   "source": [
    "c = OOASPConfiguration(name=\"i1\",kb=racks_kb)"
   ]
  },
  {
   "cell_type": "code",
   "execution_count": 5,
   "id": "f19b6004-7bde-4fbe-8648-e7c0df1ec411",
   "metadata": {},
   "outputs": [
    {
     "name": "stdout",
     "output_type": "stream",
     "text": [
      "\n"
     ]
    }
   ],
   "source": [
    "print(c)"
   ]
  },
  {
   "cell_type": "code",
   "execution_count": 6,
   "id": "d4cf1eca-cac8-417a-80c2-429d39a13f28",
   "metadata": {},
   "outputs": [
    {
     "name": "stdout",
     "output_type": "stream",
     "text": [
      "ooasp_isa_leaf(i1,frame,1).\n",
      "ooasp_isa_leaf(i1,moduleI,2).\n",
      "ooasp_associated(i1,frame_modules,1,2).\n",
      "\n"
     ]
    }
   ],
   "source": [
    "c.add_leaf(1,'frame')\n",
    "c.add_leaf(2,'moduleI')\n",
    "c.add_association('frame_modules',1,2)\n",
    "print(c)\n"
   ]
  },
  {
   "cell_type": "markdown",
   "id": "501907b2-b485-48a5-b644-a5f1a4337eba",
   "metadata": {},
   "source": [
    "Render using clingraph"
   ]
  },
  {
   "cell_type": "code",
   "execution_count": 7,
   "id": "e2b93353-9a65-4b45-ba80-f7b242ebfdcb",
   "metadata": {},
   "outputs": [],
   "source": [
    "c.save_png(\"examples/racks\")"
   ]
  },
  {
   "cell_type": "markdown",
   "id": "5411ba5e-504e-43b5-ab96-2adca9721466",
   "metadata": {},
   "source": [
    "Display in jupyter"
   ]
  },
  {
   "cell_type": "code",
   "execution_count": 8,
   "id": "471f9807-b1e5-44e0-b71e-669a90728c73",
   "metadata": {},
   "outputs": [
    {
     "data": {
      "image/png": "[encoded data removed]",
      "text/plain": [
       "<IPython.core.display.Image object>"
      ]
     },
     "execution_count": 8,
     "metadata": {},
     "output_type": "execute_result"
    }
   ],
   "source": [
    "c.view()"
   ]
  },
  {
   "cell_type": "markdown",
   "id": "ebc397c4-5e91-4c5b-9a0b-c8d79efca202",
   "metadata": {},
   "source": [
    "Remove association"
   ]
  },
  {
   "cell_type": "code",
   "execution_count": 9,
   "id": "ba259ea1-d3e1-4fec-ab46-a23eca61a92b",
   "metadata": {},
   "outputs": [
    {
     "data": {
      "image/png": "[encoded data removed]",
      "text/plain": [
       "<IPython.core.display.Image object>"
      ]
     },
     "execution_count": 9,
     "metadata": {},
     "output_type": "execute_result"
    },
    {
     "ename": "",
     "evalue": "",
     "output_type": "error",
     "traceback": [
      "\u001b[1;31mThe Kernel crashed while executing code in the the current cell or a previous cell. Please review the code in the cell(s) to identify a possible cause of the failure. Click <a href='https://aka.ms/vscodeJupyterKernelCrash'>here</a> for more info. View Jupyter <a href='command:jupyter.viewOutput'>log</a> for further details."
     ]
    }
   ],
   "source": [
    "c.remove_association('frame_modules',1,2)\n",
    "c.view()\n",
    "\n"
   ]
  },
  {
   "cell_type": "code",
   "execution_count": null,
   "id": "d3c985af-1c21-40cd-b17f-408191edac51",
   "metadata": {},
   "outputs": [],
   "source": []
  },
  {
   "cell_type": "code",
   "execution_count": null,
   "id": "edfb29b5",
   "metadata": {},
   "outputs": [],
   "source": []
  }
 ],
 "metadata": {
  "kernelspec": {
   "display_name": "Python 3",
   "language": "python",
   "name": "python3"
  },
  "language_info": {
   "codemirror_mode": {
    "name": "ipython",
    "version": 3
   },
   "file_extension": ".py",
   "mimetype": "text/x-python",
   "name": "python",
   "nbconvert_exporter": "python",
   "pygments_lexer": "ipython3",
   "version": "3.9.6 (tags/v3.9.6:db3ff76, Jun 28 2021, 15:26:21) [MSC v.1929 64 bit (AMD64)]"
  },
  "vscode": {
   "interpreter": {
    "hash": "d9dd7ba288b5c71457cb96c5c585e23cc451587d5c904203c7fd870537743d08"
   }
  }
 },
 "nbformat": 4,
 "nbformat_minor": 5
}
