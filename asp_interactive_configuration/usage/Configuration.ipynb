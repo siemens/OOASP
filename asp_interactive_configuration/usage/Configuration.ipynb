{
 "cells": [
  {
   "cell_type": "markdown",
   "id": "fa3633c8-0940-422d-a298-21470817fe33",
   "metadata": {},
   "source": [
    "# Load and render Configurations\n",
    "Copyright (c) 2022 Siemens AG Oesterreich\n",
    "SPDX-License-Identifier: MIT\n"
   ]
  },
  {
   "cell_type": "code",
   "execution_count": 1,
   "id": "f3b791ff-45a9-430f-b6db-66bc0c339b2f",
   "metadata": {},
   "outputs": [
    {
     "name": "stdout",
     "output_type": "stream",
     "text": [
      "c:\\projects\\OOASP\\asp_interactive_configuration\n"
     ]
    }
   ],
   "source": [
    "%cd .."
   ]
  },
  {
   "cell_type": "markdown",
   "id": "1600d4d7-9833-48a1-9b9d-02a70f8767e2",
   "metadata": {},
   "source": [
    "### Import `OOASPConfiguration`"
   ]
  },
  {
   "cell_type": "code",
   "execution_count": 2,
   "id": "2c1b0233-be2e-4847-b7ac-0d986a463238",
   "metadata": {},
   "outputs": [],
   "source": [
    "from ooasp.config import OOASPConfiguration"
   ]
  },
  {
   "cell_type": "markdown",
   "id": "f8018a2d-ee9f-46e8-8e31-efe8a6c2b660",
   "metadata": {},
   "source": [
    "Create corresponding kb"
   ]
  },
  {
   "cell_type": "code",
   "execution_count": 3,
   "id": "ce12858a-eeb9-49b4-be93-3d15372f29e6",
   "metadata": {},
   "outputs": [
    {
     "name": "stdout",
     "output_type": "stream",
     "text": [
      "%---- OOASPKnowledgeBase (racks_v1) ------\n",
      "ooasp_assoc(racks_v1,rack_frames,rack,1,1,frame,4,8).\n",
      "ooasp_assoc(racks_v1,frame_modules,frame,1,1,module,0,5).\n",
      "ooasp_assoc(racks_v1,element_modules,element,0,1,module,1,4).\n",
      "ooasp_attribute(racks_v1,frame,frame_position,int).\n",
      "ooasp_attribute_maxInclusive(racks_v1,frame,frame_position,8).\n",
      "ooasp_attribute_minInclusive(racks_v1,frame,frame_position,1).\n",
      "ooasp_class(racks_v1,object).\n",
      "ooasp_class(racks_v1,rack).\n",
      "ooasp_class(racks_v1,rackSingle).\n",
      "ooasp_class(racks_v1,rackDouble).\n",
      "ooasp_class(racks_v1,frame).\n",
      "ooasp_class(racks_v1,element).\n",
      "ooasp_class(racks_v1,elementA).\n",
      "ooasp_class(racks_v1,elementB).\n",
      "ooasp_class(racks_v1,elementC).\n",
      "ooasp_class(racks_v1,elementD).\n",
      "ooasp_class(racks_v1,module).\n",
      "ooasp_class(racks_v1,moduleI).\n",
      "ooasp_class(racks_v1,moduleII).\n",
      "ooasp_class(racks_v1,moduleIII).\n",
      "ooasp_class(racks_v1,moduleIV).\n",
      "ooasp_class(racks_v1,moduleV).\n",
      "ooasp_kb(racks_v1).\n",
      "ooasp_subclass(racks_v1,rack,object).\n",
      "ooasp_subclass(racks_v1,rackSingle,rack).\n",
      "ooasp_subclass(racks_v1,rackDouble,rack).\n",
      "ooasp_subclass(racks_v1,frame,object).\n",
      "ooasp_subclass(racks_v1,element,object).\n",
      "ooasp_subclass(racks_v1,elementA,element).\n",
      "ooasp_subclass(racks_v1,elementB,element).\n",
      "ooasp_subclass(racks_v1,elementC,element).\n",
      "ooasp_subclass(racks_v1,elementD,element).\n",
      "ooasp_subclass(racks_v1,module,object).\n",
      "ooasp_subclass(racks_v1,moduleI,module).\n",
      "ooasp_subclass(racks_v1,moduleII,module).\n",
      "ooasp_subclass(racks_v1,moduleIII,module).\n",
      "ooasp_subclass(racks_v1,moduleIV,module).\n",
      "ooasp_subclass(racks_v1,moduleV,module).\n",
      "\n"
     ]
    }
   ],
   "source": [
    "from ooasp.kb import OOASPKnowledgeBase\n",
    "racks_kb = OOASPKnowledgeBase.from_file(\"racks_v1\",\"./examples/racks/kb.lp\",False)\n",
    "print(racks_kb)"
   ]
  },
  {
   "cell_type": "markdown",
   "id": "1d945f2d-6f75-4b47-bc5f-94c872ea30b4",
   "metadata": {},
   "source": [
    "Create empty configuration"
   ]
  },
  {
   "cell_type": "code",
   "execution_count": 4,
   "id": "b9574e0f-7e8b-424c-b8bd-8dbe457ca189",
   "metadata": {},
   "outputs": [],
   "source": [
    "c = OOASPConfiguration(name=\"i1\",kb=racks_kb)"
   ]
  },
  {
   "cell_type": "code",
   "execution_count": 5,
   "id": "f19b6004-7bde-4fbe-8648-e7c0df1ec411",
   "metadata": {},
   "outputs": [
    {
     "name": "stdout",
     "output_type": "stream",
     "text": [
      "\n"
     ]
    }
   ],
   "source": [
    "print(c)"
   ]
  },
  {
   "cell_type": "code",
   "execution_count": 6,
   "id": "d4cf1eca-cac8-417a-80c2-429d39a13f28",
   "metadata": {},
   "outputs": [
    {
     "name": "stdout",
     "output_type": "stream",
     "text": [
      "ooasp_isa_leaf(i1,frame,1).\n",
      "ooasp_isa_leaf(i1,moduleI,2).\n",
      "ooasp_associated(i1,frame_modules,1,2).\n",
      "\n"
     ]
    }
   ],
   "source": [
    "c.add_leaf(1,'frame')\n",
    "c.add_leaf(2,'moduleI')\n",
    "c.add_association('frame_modules',1,2)\n",
    "print(c)"
   ]
  },
  {
   "cell_type": "markdown",
   "id": "501907b2-b485-48a5-b644-a5f1a4337eba",
   "metadata": {},
   "source": [
    "Render using clingraph"
   ]
  },
  {
   "cell_type": "code",
   "execution_count": 7,
   "id": "e2b93353-9a65-4b45-ba80-f7b242ebfdcb",
   "metadata": {},
   "outputs": [],
   "source": [
    "c.save_png(\"examples/racks\")"
   ]
  },
  {
   "cell_type": "markdown",
   "id": "5411ba5e-504e-43b5-ab96-2adca9721466",
   "metadata": {},
   "source": [
    "Display in jupyter"
   ]
  },
  {
   "cell_type": "code",
   "execution_count": 8,
   "id": "471f9807-b1e5-44e0-b71e-669a90728c73",
   "metadata": {},
   "outputs": [
    {
     "data": {
      "image/png": "[encoded data removed]",
      "text/plain": [
       "<IPython.core.display.Image object>"
      ]
     },
     "execution_count": 8,
     "metadata": {},
     "output_type": "execute_result"
    }
   ],
   "source": [
    "c.view()"
   ]
  },
  {
   "cell_type": "markdown",
   "id": "ebc397c4-5e91-4c5b-9a0b-c8d79efca202",
   "metadata": {},
   "source": [
    "Remove association"
   ]
  },
  {
   "cell_type": "code",
   "execution_count": 9,
   "id": "ba259ea1-d3e1-4fec-ab46-a23eca61a92b",
   "metadata": {},
   "outputs": [
    {
     "data": {
      "image/png": "[encoded data removed]",
      "text/plain": [
       "<IPython.core.display.Image object>"
      ]
     },
     "execution_count": 9,
     "metadata": {},
     "output_type": "execute_result"
    }
   ],
   "source": [
    "c.remove_association('frame_modules',1,2)\n",
    "c.view()\n",
    "\n"
   ]
  },
  {
   "cell_type": "code",
   "execution_count": 10,
   "id": "edfb29b5",
   "metadata": {},
   "outputs": [
    {
     "data": {
      "text/plain": [
       "ooasp_attribute_value(i1,frame_position,1,1)"
      ]
     },
     "execution_count": 10,
     "metadata": {},
     "output_type": "execute_result"
    }
   ],
   "source": [
    "c.add_value(1,'frame_position',1)\n"
   ]
  },
  {
   "cell_type": "code",
   "execution_count": 11,
   "id": "ab931e9c-dafc-4b41-8554-e42ad4ef34ee",
   "metadata": {},
   "outputs": [
    {
     "data": {
      "image/png": "[encoded data removed]",
      "text/plain": [
       "<IPython.core.display.Image object>"
      ]
     },
     "execution_count": 11,
     "metadata": {},
     "output_type": "execute_result"
    }
   ],
   "source": [
    "c.view()\n"
   ]
  },
  {
   "cell_type": "code",
   "execution_count": 12,
   "id": "0893a611-e309-4020-a63a-63cf14f0d003",
   "metadata": {},
   "outputs": [
    {
     "name": "stdout",
     "output_type": "stream",
     "text": [
      "ooasp_isa_leaf(i1,frame,1).\n",
      "ooasp_isa_leaf(i1,moduleI,2).\n",
      "ooasp_attribute_value(i1,frame_position,1,1).\n",
      "\n"
     ]
    }
   ],
   "source": [
    "print(c)"
   ]
  }
 ],
 "metadata": {
  "kernelspec": {
   "display_name": "Python 3 (ipykernel)",
   "language": "python",
   "name": "python3"
  },
  "language_info": {
   "codemirror_mode": {
    "name": "ipython",
    "version": 3
   },
   "file_extension": ".py",
   "mimetype": "text/x-python",
   "name": "python",
   "nbconvert_exporter": "python",
   "pygments_lexer": "ipython3",
   "version": "3.9.16"
  },
  "vscode": {
   "interpreter": {
    "hash": "d9dd7ba288b5c71457cb96c5c585e23cc451587d5c904203c7fd870537743d08"
   }
  }
 },
 "nbformat": 4,
 "nbformat_minor": 5
}
