{
 "cells": [
  {
   "cell_type": "markdown",
   "id": "bfc0ea96-a015-46e4-9824-53439595e487",
   "metadata": {},
   "source": [
    "# UI Racks\n",
    "Copyright (c) 2022 Siemens AG Oesterreich\n",
    "SPDX-License-Identifier: MIT"
   ]
  },
  {
   "cell_type": "code",
   "execution_count": 1,
   "id": "67adb474",
   "metadata": {},
   "outputs": [
    {
     "name": "stdout",
     "output_type": "stream",
     "text": [
      "/Users/susana/Documents/Education/PhD/ExternalProjects/OOASP/asp_interactive_configuration\n"
     ]
    }
   ],
   "source": [
    "# run this once (or after every restart)\n",
    "%cd .."
   ]
  },
  {
   "cell_type": "code",
   "execution_count": 2,
   "id": "978e589c-7cd1-4195-a754-cab6d62b5e94",
   "metadata": {},
   "outputs": [],
   "source": [
    "import ooasp.settings as settings\n",
    "settings.init('defined')\n",
    "\n",
    "from ooasp.interactive import InteractiveConfigurator\n",
    "from ooasp.kb import OOASPKnowledgeBase\n",
    "from ooasp import settings\n",
    "import IPython\n",
    "racks_kb = OOASPKnowledgeBase.from_file(\"racks_v1\",settings.racks_example_kb)\n",
    "iconf = InteractiveConfigurator(racks_kb,\"racks_config_1\",[settings.racks_example_constraints])"
   ]
  },
  {
   "cell_type": "code",
   "execution_count": 3,
   "id": "4f32be3a",
   "metadata": {},
   "outputs": [
    {
     "name": "stdout",
     "output_type": "stream",
     "text": [
      "\u001b[94m==========INTERACTIVE CONFIG==========\u001b[0m\n",
      "\u001b[90m{\n",
      "    \"kb\": \"racks_v1\",\n",
      "    \"config\": \"racks_config_1\",\n",
      "    \"browsing\": false,\n",
      "    \"found configuration \": true\n",
      "}\u001b[0m\n",
      "\u001b[96m----------Current State----------\u001b[0m\n",
      "\u001b[90m{\n",
      "    \"last action\": \"start\",\n",
      "    \"number of objects\": 0,\n",
      "    \"config\": \"\"\n",
      "}\u001b[0m\n",
      "\n"
     ]
    }
   ],
   "source": [
    "print(iconf)"
   ]
  },
  {
   "cell_type": "code",
   "execution_count": 4,
   "id": "ef435f50",
   "metadata": {},
   "outputs": [
    {
     "name": "stdout",
     "output_type": "stream",
     "text": [
      "\n"
     ]
    }
   ],
   "source": [
    "iconf.show_options()"
   ]
  },
  {
   "cell_type": "code",
   "execution_count": 5,
   "id": "584a47ee-c29e-430c-bc40-9b942349d638",
   "metadata": {
    "tags": []
   },
   "outputs": [
    {
     "data": {
      "application/vnd.jupyter.widget-view+json": {
       "model_id": "e867390d678743459999430f94dcf261",
       "version_major": 2,
       "version_minor": 0
      },
      "text/plain": [
       "HTML(value='<style>div.output_scroll { height: 44em; }</style>')"
      ]
     },
     "metadata": {},
     "output_type": "display_data"
    },
    {
     "data": {
      "application/vnd.jupyter.widget-view+json": {
       "model_id": "9d4872091c1d43dba5ca3095eb9c3ea2",
       "version_major": 2,
       "version_minor": 0
      },
      "text/plain": [
       "GridspecLayout(children=(VBox(children=(HTML(value='<h2>History</h2>'), Label(value='0. start'), Label(value='…"
      ]
     },
     "metadata": {},
     "output_type": "display_data"
    }
   ],
   "source": [
    "from ooasp.ui import OOASPUI\n",
    "ui = OOASPUI(iconf)"
   ]
  },
  {
   "cell_type": "code",
   "execution_count": 7,
   "id": "012aaded",
   "metadata": {},
   "outputs": [
    {
     "name": "stdout",
     "output_type": "stream",
     "text": [
      "ooasp_associated(rack_frames,2,1).\n",
      "ooasp_attr_value(frame_position,1,1).\n",
      "ooasp_attr_value(frame_position,1,2).\n",
      "ooasp_attr_value(frame_position,1,3).\n",
      "ooasp_attr_value(frame_position,1,4).\n",
      "ooasp_attr_value(frame_position,1,5).\n",
      "ooasp_attr_value(frame_position,1,6).\n",
      "ooasp_attr_value(frame_position,1,7).\n",
      "ooasp_attr_value(frame_position,1,8).\n",
      "ooasp_cv(lowerbound,1,\"Lowerbound for association {} not reached: {}\",(frame_modules,1,2)).\n",
      "ooasp_cv(lowerbound,1,\"Lowerbound for association {} not reached: {}\",(rack_frames,4,2)).\n",
      "ooasp_cv(lowerbound,2,\"Lowerbound for association {} not reached: {}\",(rack_frames,4,2)).\n",
      "ooasp_cv(lowerbound,1,\"Lowerbound for association {} not reached: {}\",(element_modules,1,2)).\n",
      "ooasp_cv(customlowerbound,1,\"Custom lowerbound for association {} not reached: {}\",(element_modules,1,2)).\n",
      "ooasp_cv(customlowerbound,1,\"Custom lowerbound for association {} not reached: {}\",(element_modules,2,2)).\n",
      "ooasp_cv(customlowerbound,1,\"Custom lowerbound for association {} not reached: {}\",(element_modules,3,2)).\n",
      "ooasp_cv(customlowerbound,1,\"Custom lowerbound for association {} not reached: {}\",(element_modules,4,2)).\n",
      "ooasp_cv(racksinglelowerbound,1,\"Rack singles should be associated to 4 frames \",(2,)).\n",
      "ooasp_cv(racksinglelowerbound,2,\"Rack singles should be associated to 4 frames \",(2,)).\n",
      "ooasp_cv(rackdoublelowerbound,1,\"Rack doubles should be associated to 8 frames \",(2,)).\n",
      "ooasp_cv(rackdoublelowerbound,2,\"Rack doubles should be associated to 8 frames \",(2,)).\n",
      "ooasp_cv(module_requires_element,1,\"Modules of type {} must have at least one element\",(moduleI,2)).\n",
      "ooasp_cv(module_requires_element,1,\"Modules of type {} must have at least one element\",(moduleII,2)).\n",
      "ooasp_cv(module_requires_element,1,\"Modules of type {} must have at least one element\",(moduleIII,2)).\n",
      "ooasp_cv(module_requires_element,1,\"Modules of type {} must have at least one element\",(moduleIV,2)).\n",
      "ooasp_domain(object,1).\n",
      "ooasp_domain(object,2).\n",
      "ooasp_isa_leaf(frame,1).\n",
      "ooasp_isa_leaf(moduleI,1).\n",
      "ooasp_isa_leaf(moduleII,1).\n",
      "ooasp_isa_leaf(moduleIII,1).\n",
      "ooasp_isa_leaf(moduleIV,1).\n",
      "ooasp_isa_leaf(moduleV,1).\n",
      "ooasp_isa_leaf(elementA,1).\n",
      "ooasp_isa_leaf(elementB,1).\n",
      "ooasp_isa_leaf(elementC,1).\n",
      "ooasp_isa_leaf(elementD,1).\n",
      "ooasp_isa_leaf(rackSingle,1).\n",
      "ooasp_isa_leaf(rackDouble,1).\n",
      "ooasp_isa_leaf(rackSingle,2).\n",
      "ooasp_isa_leaf(rackDouble,2).\n",
      "ooasp_isa(object,1).\n",
      "ooasp_isa(rack,1).\n",
      "ooasp_isa(frame,1).\n",
      "ooasp_isa(element,1).\n",
      "ooasp_isa(module,1).\n",
      "ooasp_isa(moduleI,1).\n",
      "ooasp_isa(moduleII,1).\n",
      "ooasp_isa(moduleIII,1).\n",
      "ooasp_isa(moduleIV,1).\n",
      "ooasp_isa(moduleV,1).\n",
      "ooasp_isa(elementA,1).\n",
      "ooasp_isa(elementB,1).\n",
      "ooasp_isa(elementC,1).\n",
      "ooasp_isa(elementD,1).\n",
      "ooasp_isa(rackSingle,1).\n",
      "ooasp_isa(rackDouble,1).\n",
      "ooasp_isa(object,2).\n",
      "ooasp_isa(rack,2).\n",
      "ooasp_isa(rackSingle,2).\n",
      "ooasp_isa(rackDouble,2).\n",
      "user(ooasp_associated(rack_frames,2,1)).\n",
      "\n"
     ]
    }
   ],
   "source": [
    "print(iconf.brave_config)"
   ]
  },
  {
   "cell_type": "code",
   "execution_count": null,
   "id": "3617e92b-2ebd-4f66-85f9-8b721f1b6214",
   "metadata": {},
   "outputs": [],
   "source": []
  }
 ],
 "metadata": {
  "kernelspec": {
   "display_name": "Python 3 (ipykernel)",
   "language": "python",
   "name": "python3"
  },
  "language_info": {
   "codemirror_mode": {
    "name": "ipython",
    "version": 3
   },
   "file_extension": ".py",
   "mimetype": "text/x-python",
   "name": "python",
   "nbconvert_exporter": "python",
   "pygments_lexer": "ipython3",
   "version": "3.9.17"
  },
  "vscode": {
   "interpreter": {
    "hash": "3335a44cbf2b74f58680e2551700befa5bcda97c93e395440ba937aba7deda85"
   }
  }
 },
 "nbformat": 4,
 "nbformat_minor": 5
}
