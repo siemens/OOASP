{
 "cells": [
  {
   "cell_type": "markdown",
   "id": "bfc0ea96-a015-46e4-9824-53439595e487",
   "metadata": {},
   "source": [
    "# UI Racks\n",
    "Copyright (c) 2022 Siemens AG Oesterreich\n",
    "SPDX-License-Identifier: MIT"
   ]
  },
  {
   "cell_type": "code",
   "execution_count": 1,
   "id": "67adb474",
   "metadata": {},
   "outputs": [
    {
     "name": "stdout",
     "output_type": "stream",
     "text": [
      "/Users/susana/Documents/Education/PhD/ExternalProjects/OOASP/asp_interactive_configuration\n"
     ]
    }
   ],
   "source": [
    "# run this once (or after every restart)\n",
    "%cd .."
   ]
  },
  {
   "cell_type": "code",
   "execution_count": 2,
   "id": "978e589c-7cd1-4195-a754-cab6d62b5e94",
   "metadata": {},
   "outputs": [],
   "source": [
    "import ooasp.settings as settings\n",
    "from ooasp.ui import OOASPUI\n",
    "from ooasp.interactive import InteractiveConfigurator\n",
    "from ooasp.kb import OOASPKnowledgeBase\n",
    "from ooasp import settings\n",
    "import IPython\n",
    "racks_kb = OOASPKnowledgeBase.from_file(\"racks_v1\",\"./examples/racks/kb.lp\")\n",
    "iconf = InteractiveConfigurator(racks_kb,\"racks_config_1\",[\"./examples/racks/constraints.lp\"])"
   ]
  },
  {
   "cell_type": "code",
   "execution_count": 3,
   "id": "9fd9ad0a",
   "metadata": {},
   "outputs": [
    {
     "name": "stdout",
     "output_type": "stream",
     "text": [
      "0. start\n"
     ]
    }
   ],
   "source": [
    "iconf.show_history()"
   ]
  },
  {
   "cell_type": "code",
   "execution_count": 4,
   "id": "c8a72f31",
   "metadata": {
    "tags": []
   },
   "outputs": [
    {
     "data": {
      "application/vnd.jupyter.widget-view+json": {
       "model_id": "29a1045f6f4d43579a88e2f6045a8df5",
       "version_major": 2,
       "version_minor": 0
      },
      "text/plain": [
       "HTML(value='<style>div.output_scroll { height: 44em; } .container { width:100% !important; }</style>')"
      ]
     },
     "metadata": {},
     "output_type": "display_data"
    },
    {
     "data": {
      "application/vnd.jupyter.widget-view+json": {
       "model_id": "c01397f26e2944a8b6695b6c3eccd351",
       "version_major": 2,
       "version_minor": 0
      },
      "text/plain": [
       "GridspecLayout(children=(Image(value=b'\\x89PNG\\r\\n\\x1a\\n\\x00\\x00\\x00\\rIHDR\\x00\\x00\\x00\\x0b\\x00\\x00\\x00\\x0b\\x08…"
      ]
     },
     "metadata": {},
     "output_type": "display_data"
    },
    {
     "name": "stdout",
     "output_type": "stream",
     "text": [
      "['tester', 'solve', 'asp', 'solver', 'configuration', 'share', 'learn_explicit', 'sat_prepro', 'stats', 'parse_ext', 'parse_maxsat']\n",
      "['solve_limit', 'parallel_mode', 'global_restarts', 'distribute', 'integrate', 'enum_mode', 'project', 'models', 'opt_mode']\n",
      "['tester', 'solve', 'asp', 'solver', 'configuration', 'share', 'learn_explicit', 'sat_prepro', 'stats', 'parse_ext', 'parse_maxsat']\n",
      "['solve_limit', 'parallel_mode', 'global_restarts', 'distribute', 'integrate', 'enum_mode', 'project', 'models', 'opt_mode']\n",
      "['tester', 'solve', 'asp', 'solver', 'configuration', 'share', 'learn_explicit', 'sat_prepro', 'stats', 'parse_ext', 'parse_maxsat']\n",
      "['solve_limit', 'parallel_mode', 'global_restarts', 'distribute', 'integrate', 'enum_mode', 'project', 'models', 'opt_mode']\n",
      "['tester', 'solve', 'asp', 'solver', 'configuration', 'share', 'learn_explicit', 'sat_prepro', 'stats', 'parse_ext', 'parse_maxsat']\n",
      "['solve_limit', 'parallel_mode', 'global_restarts', 'distribute', 'integrate', 'enum_mode', 'project', 'models', 'opt_mode']\n",
      "['tester', 'solve', 'asp', 'solver', 'configuration', 'share', 'learn_explicit', 'sat_prepro', 'stats', 'parse_ext', 'parse_maxsat']\n",
      "['solve_limit', 'parallel_mode', 'global_restarts', 'distribute', 'integrate', 'enum_mode', 'project', 'models', 'opt_mode']\n",
      "['tester', 'solve', 'asp', 'solver', 'configuration', 'share', 'learn_explicit', 'sat_prepro', 'stats', 'parse_ext', 'parse_maxsat']\n",
      "['solve_limit', 'parallel_mode', 'global_restarts', 'distribute', 'integrate', 'enum_mode', 'project', 'models', 'opt_mode']\n",
      "['tester', 'solve', 'asp', 'solver', 'configuration', 'share', 'learn_explicit', 'sat_prepro', 'stats', 'parse_ext', 'parse_maxsat']\n",
      "['solve_limit', 'parallel_mode', 'global_restarts', 'distribute', 'integrate', 'enum_mode', 'project', 'models', 'opt_mode']\n"
     ]
    }
   ],
   "source": [
    "ui = OOASPUI(iconf);"
   ]
  },
  {
   "cell_type": "code",
   "execution_count": null,
   "id": "b1d02ba4",
   "metadata": {},
   "outputs": [],
   "source": []
  }
 ],
 "metadata": {
  "kernelspec": {
   "display_name": "Python 3 (ipykernel)",
   "language": "python",
   "name": "python3"
  },
  "language_info": {
   "codemirror_mode": {
    "name": "ipython",
    "version": 3
   },
   "file_extension": ".py",
   "mimetype": "text/x-python",
   "name": "python",
   "nbconvert_exporter": "python",
   "pygments_lexer": "ipython3",
   "version": "3.9.17"
  },
  "vscode": {
   "interpreter": {
    "hash": "3335a44cbf2b74f58680e2551700befa5bcda97c93e395440ba937aba7deda85"
   }
  }
 },
 "nbformat": 4,
 "nbformat_minor": 5
}
