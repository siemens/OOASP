{
 "cells": [
  {
   "cell_type": "markdown",
   "id": "bfc0ea96-a015-46e4-9824-53439595e487",
   "metadata": {},
   "source": [
    "# UI Racks\n",
    "Copyright (c) 2022 Siemens AG Oesterreich\n",
    "SPDX-License-Identifier: MIT"
   ]
  },
  {
   "cell_type": "code",
   "execution_count": 1,
   "id": "67adb474",
   "metadata": {},
   "outputs": [
    {
     "name": "stdout",
     "output_type": "stream",
     "text": [
      "/Users/susana/Documents/Education/PhD/ExternalProjects/OOASP/asp_interactive_configuration\n"
     ]
    }
   ],
   "source": [
    "# run this once (or after every restart)\n",
    "%cd .."
   ]
  },
  {
   "cell_type": "code",
   "execution_count": 2,
   "id": "978e589c-7cd1-4195-a754-cab6d62b5e94",
   "metadata": {},
   "outputs": [],
   "source": [
    "import ooasp.settings as settings\n",
    "settings.init('defined')\n",
    "\n",
    "from ooasp.interactive import InteractiveConfigurator\n",
    "from ooasp.kb import OOASPKnowledgeBase\n",
    "from ooasp import settings\n",
    "import IPython\n",
    "racks_kb = OOASPKnowledgeBase.from_file(\"racks_v1\",settings.racks_example_kb)\n",
    "iconf = InteractiveConfigurator(racks_kb,\"racks_config_1\",[settings.racks_example_constraints])"
   ]
  },
  {
   "cell_type": "code",
   "execution_count": 3,
   "id": "c8a72f31",
   "metadata": {
    "tags": []
   },
   "outputs": [
    {
     "data": {
      "application/vnd.jupyter.widget-view+json": {
       "model_id": "b38e694f8d364fa29c9ec25155252462",
       "version_major": 2,
       "version_minor": 0
      },
      "text/plain": []
     },
     "metadata": {},
     "output_type": "display_data"
    },
    {
     "data": {
      "application/vnd.jupyter.widget-view+json": {
       "model_id": "84c45b1223dc471b8759ca94f4ddf6d9",
       "version_major": 2,
       "version_minor": 0
      },
      "text/plain": [
       "ThemeManager()"
      ]
     },
     "metadata": {},
     "output_type": "display_data"
    },
    {
     "data": {
      "application/vnd.jupyter.widget-view+json": {
       "model_id": "28924a30baa249efbe4b575fac1f4a2f",
       "version_major": 2,
       "version_minor": 0
      },
      "text/plain": [
       "Fullscreen()"
      ]
     },
     "metadata": {},
     "output_type": "display_data"
    },
    {
     "data": {
      "application/vnd.jupyter.widget-view+json": {
       "model_id": "3889cb72cd6745eda7e2d532020fd8ca",
       "version_major": 2,
       "version_minor": 0
      },
      "text/plain": [
       "HTML(value='<style>div.output_scroll { height: 44em; } .container { width:100% !important; }</style>')"
      ]
     },
     "metadata": {},
     "output_type": "display_data"
    }
   ],
   "source": [
    "from ooasp.ui import OOASPUI\n",
    "ui = OOASPUI(iconf);"
   ]
  },
  {
   "cell_type": "code",
   "execution_count": 5,
   "id": "3617e92b-2ebd-4f66-85f9-8b721f1b6214",
   "metadata": {},
   "outputs": [],
   "source": [
    "ui.fs.fullscreen()"
   ]
  },
  {
   "cell_type": "code",
   "execution_count": null,
   "id": "a6a24d88",
   "metadata": {},
   "outputs": [],
   "source": []
  }
 ],
 "metadata": {
  "kernelspec": {
   "display_name": "Python 3 (ipykernel)",
   "language": "python",
   "name": "python3"
  },
  "language_info": {
   "codemirror_mode": {
    "name": "ipython",
    "version": 3
   },
   "file_extension": ".py",
   "mimetype": "text/x-python",
   "name": "python",
   "nbconvert_exporter": "python",
   "pygments_lexer": "ipython3",
   "version": "3.9.17"
  },
  "vscode": {
   "interpreter": {
    "hash": "3335a44cbf2b74f58680e2551700befa5bcda97c93e395440ba937aba7deda85"
   }
  }
 },
 "nbformat": 4,
 "nbformat_minor": 5
}
