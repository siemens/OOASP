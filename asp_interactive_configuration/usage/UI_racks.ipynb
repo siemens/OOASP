{
 "cells": [
  {
   "attachments": {},
   "cell_type": "markdown",
   "id": "bfc0ea96-a015-46e4-9824-53439595e487",
   "metadata": {},
   "source": [
    "# UI Racks\n",
    "Copyright (c) 2022 Siemens AG Oesterreich\n",
    "SPDX-License-Identifier: MIT"
   ]
  },
  {
   "cell_type": "code",
   "execution_count": null,
   "id": "67adb474",
   "metadata": {},
   "outputs": [],
   "source": [
    "# run this once (or after every restart)\n",
    "%cd .."
   ]
  },
  {
   "cell_type": "code",
   "execution_count": null,
   "id": "978e589c-7cd1-4195-a754-cab6d62b5e94",
   "metadata": {},
   "outputs": [],
   "source": [
    "from ooasp.interactive import InteractiveConfigurator\n",
    "from ooasp.kb import OOASPKnowledgeBase\n",
    "import IPython\n",
    "racks_kb = OOASPKnowledgeBase.from_file(\"racks_v1\",\"./examples/racks/kb.lp\")\n",
    "iconf = InteractiveConfigurator(racks_kb,\"racks_config_1\",[\"./examples/racks/constraints.lp\"])"
   ]
  },
  {
   "cell_type": "code",
   "execution_count": null,
   "id": "584a47ee-c29e-430c-bc40-9b942349d638",
   "metadata": {
    "tags": []
   },
   "outputs": [],
   "source": [
    "from ooasp.ui import OOASPUI\n",
    "ui = OOASPUI(iconf)"
   ]
  },
  {
   "cell_type": "code",
   "execution_count": null,
   "id": "3617e92b-2ebd-4f66-85f9-8b721f1b6214",
   "metadata": {},
   "outputs": [],
   "source": []
  }
 ],
 "metadata": {
  "kernelspec": {
   "display_name": ".venv",
   "language": "python",
   "name": "python3"
  },
  "language_info": {
   "codemirror_mode": {
    "name": "ipython",
    "version": 3
   },
   "file_extension": ".py",
   "mimetype": "text/x-python",
   "name": "python",
   "nbconvert_exporter": "python",
   "pygments_lexer": "ipython3",
   "version": "3.9.6 (tags/v3.9.6:db3ff76, Jun 28 2021, 15:26:21) [MSC v.1929 64 bit (AMD64)]"
  },
  "vscode": {
   "interpreter": {
    "hash": "3335a44cbf2b74f58680e2551700befa5bcda97c93e395440ba937aba7deda85"
   }
  }
 },
 "nbformat": 4,
 "nbformat_minor": 5
}
