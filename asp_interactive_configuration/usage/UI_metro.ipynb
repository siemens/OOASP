{
 "cells": [
  {
   "attachments": {},
   "cell_type": "markdown",
   "id": "bfc0ea96-a015-46e4-9824-53439595e487",
   "metadata": {},
   "source": [
    "# UI Metro\n",
    "Copyright (c) 2022 Siemens AG Oesterreich\n",
    "SPDX-License-Identifier: MIT\n"
   ]
  },
  {
   "cell_type": "code",
   "execution_count": 1,
   "id": "67adb474",
   "metadata": {},
   "outputs": [
    {
     "name": "stdout",
     "output_type": "stream",
     "text": [
      "c:\\projects\\OOASP\\asp_interactive_configuration\n"
     ]
    }
   ],
   "source": [
    "# run this once (or after every restart)\n",
    "%cd .."
   ]
  },
  {
   "cell_type": "code",
   "execution_count": 2,
   "id": "978e589c-7cd1-4195-a754-cab6d62b5e94",
   "metadata": {},
   "outputs": [],
   "source": [
    "from ooasp.interactive import InteractiveConfigurator\n",
    "from ooasp.kb import OOASPKnowledgeBase\n",
    "import IPython\n",
    "metro_kb = OOASPKnowledgeBase.from_file(\"metro_v1\",\"./examples/metro/kb.lp\")\n",
    "iconf = InteractiveConfigurator(metro_kb,\"metro_config_1\",[\"./examples/metro/constraints.lp\"])"
   ]
  },
  {
   "cell_type": "code",
   "execution_count": 3,
   "id": "584a47ee-c29e-430c-bc40-9b942349d638",
   "metadata": {
    "tags": []
   },
   "outputs": [
    {
     "data": {
      "application/vnd.jupyter.widget-view+json": {
       "model_id": "baa2e3d9890a40d8b7d993c7fd5793a1",
       "version_major": 2,
       "version_minor": 0
      },
      "text/plain": [
       "HTML(value='<style>div.output_scroll { height: 44em; }</style>')"
      ]
     },
     "metadata": {},
     "output_type": "display_data"
    },
    {
     "data": {
      "application/vnd.jupyter.widget-view+json": {
       "model_id": "fbb1f6da275c4d44a6504f245fb1e6f2",
       "version_major": 2,
       "version_minor": 0
      },
      "text/plain": [
       "GridspecLayout(children=(VBox(children=(HTML(value='<h2>History</h2>'), Label(value='0. start')), layout=Layou…"
      ]
     },
     "metadata": {},
     "output_type": "display_data"
    }
   ],
   "source": [
    "from ooasp.ui import OOASPUI\n",
    "ui = OOASPUI(iconf)"
   ]
  },
  {
   "cell_type": "code",
   "execution_count": null,
   "id": "d3c4eb66",
   "metadata": {},
   "outputs": [],
   "source": []
  },
  {
   "cell_type": "code",
   "execution_count": null,
   "id": "23b76af1",
   "metadata": {},
   "outputs": [],
   "source": []
  }
 ],
 "metadata": {
  "kernelspec": {
   "display_name": ".venv",
   "language": "python",
   "name": "python3"
  },
  "language_info": {
   "codemirror_mode": {
    "name": "ipython",
    "version": 3
   },
   "file_extension": ".py",
   "mimetype": "text/x-python",
   "name": "python",
   "nbconvert_exporter": "python",
   "pygments_lexer": "ipython3",
   "version": "3.9.10"
  },
  "vscode": {
   "interpreter": {
    "hash": "3335a44cbf2b74f58680e2551700befa5bcda97c93e395440ba937aba7deda85"
   }
  }
 },
 "nbformat": 4,
 "nbformat_minor": 5
}
