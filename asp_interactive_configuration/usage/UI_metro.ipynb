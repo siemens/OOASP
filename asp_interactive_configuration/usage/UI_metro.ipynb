{
 "cells": [
  {
   "cell_type": "markdown",
   "id": "bfc0ea96-a015-46e4-9824-53439595e487",
   "metadata": {},
   "source": [
    "# UI metro\n",
    "Copyright (c) 2022 Siemens AG Oesterreich\n",
    "SPDX-License-Identifier: MIT"
   ]
  },
  {
   "cell_type": "code",
   "execution_count": 1,
   "id": "67adb474",
   "metadata": {},
   "outputs": [
    {
     "name": "stdout",
     "output_type": "stream",
     "text": [
      "/Users/susana/Documents/Education/PhD/ExternalProjects/OOASP/asp_interactive_configuration\n"
     ]
    }
   ],
   "source": [
    "# runthis once (or after every restart)\n",
    "%cd .."
   ]
  },
  {
   "cell_type": "code",
   "execution_count": 4,
   "id": "978e589c-7cd1-4195-a754-cab6d62b5e94",
   "metadata": {},
   "outputs": [],
   "source": [
    "import ooasp.settings as settings\n",
    "from ooasp.ui import OOASPUI\n",
    "from ooasp.interactive import InteractiveConfigurator\n",
    "from ooasp.kb import OOASPKnowledgeBase\n",
    "from ooasp import settings\n",
    "import IPython\n",
    "metro_kb = OOASPKnowledgeBase.from_file(\"metro_v1\",\"./examples/metro/kb.lp\")\n",
    "iconf = InteractiveConfigurator(metro_kb,\"metro_config_1\",[\"./examples/metro/fconstraints.lp\"])"
   ]
  },
  {
   "cell_type": "code",
   "execution_count": 5,
   "id": "c8a72f31",
   "metadata": {
    "tags": []
   },
   "outputs": [
    {
     "data": {
      "application/vnd.jupyter.widget-view+json": {
       "model_id": "7e83250b70e04ab1ada4acaa79e60e97",
       "version_major": 2,
       "version_minor": 0
      },
      "text/plain": [
       "HTML(value='<style>div.output_scroll { height: 44em; } .container { width:100% !important; }</style>')"
      ]
     },
     "metadata": {},
     "output_type": "display_data"
    },
    {
     "data": {
      "application/vnd.jupyter.widget-view+json": {
       "model_id": "2276b43c0abb4900b7029554e74188c8",
       "version_major": 2,
       "version_minor": 0
      },
      "text/plain": [
       "GridspecLayout(children=(HBox(children=(Image(value=b'\\x89PNG\\r\\n\\x1a\\n\\x00\\x00\\x00\\rIHDR\\x00\\x00\\x00!\\x00\\x00…"
      ]
     },
     "metadata": {},
     "output_type": "display_data"
    },
    {
     "name": "stdout",
     "output_type": "stream",
     "text": [
      "In loop\n",
      "In loop\n",
      "In loop\n",
      "In loop\n",
      "In loop\n",
      "In loop\n",
      "In loop\n",
      "In loop\n",
      "In loop\n",
      "In loop\n",
      "In loop\n",
      "In loop\n",
      "In loop\n",
      "In loop\n",
      "In loop\n"
     ]
    },
    {
     "ename": "RuntimeError",
     "evalue": "redefinition of atom <'__def(ooasp_attr_fvalue(nr_seats,1))',1804>",
     "output_type": "error",
     "traceback": [
      "\u001b[0;31m---------------------------------------------------------------------------\u001b[0m",
      "\u001b[0;31mRuntimeError\u001b[0m                              Traceback (most recent call last)",
      "File \u001b[0;32m~/Documents/Education/PhD/ExternalProjects/OOASP/asp_interactive_configuration/ooasp/ui.py:103\u001b[0m, in \u001b[0;36mOOASPUI.call_and_update.<locals>.fun\u001b[0;34m(bt)\u001b[0m\n\u001b[1;32m    101\u001b[0m f(bt,\u001b[38;5;241m*\u001b[39m\u001b[38;5;241m*\u001b[39mkwargs)\n\u001b[1;32m    102\u001b[0m \u001b[38;5;28mself\u001b[39m\u001b[38;5;241m.\u001b[39mfound_config\u001b[38;5;241m.\u001b[39mvalue \u001b[38;5;241m=\u001b[39m empty_img\u001b[38;5;241m.\u001b[39mdata\n\u001b[0;32m--> 103\u001b[0m \u001b[38;5;28;43mself\u001b[39;49m\u001b[38;5;241;43m.\u001b[39;49m\u001b[43mupdate\u001b[49m\u001b[43m(\u001b[49m\u001b[43m)\u001b[49m\n",
      "File \u001b[0;32m~/Documents/Education/PhD/ExternalProjects/OOASP/asp_interactive_configuration/ooasp/ui.py:82\u001b[0m, in \u001b[0;36mOOASPUI.update\u001b[0;34m(self)\u001b[0m\n\u001b[1;32m     80\u001b[0m \u001b[38;5;28mself\u001b[39m\u001b[38;5;241m.\u001b[39mset_config_image()\n\u001b[1;32m     81\u001b[0m \u001b[38;5;66;03m# self.set_history()\u001b[39;00m\n\u001b[0;32m---> 82\u001b[0m \u001b[38;5;28;43mself\u001b[39;49m\u001b[38;5;241;43m.\u001b[39;49m\u001b[43mset_edit\u001b[49m\u001b[43m(\u001b[49m\u001b[43m)\u001b[49m\n\u001b[1;32m     83\u001b[0m \u001b[38;5;28mself\u001b[39m\u001b[38;5;241m.\u001b[39mset_extend()\n\u001b[1;32m     84\u001b[0m \u001b[38;5;28mself\u001b[39m\u001b[38;5;241m.\u001b[39mset_browse()\n",
      "File \u001b[0;32m~/Documents/Education/PhD/ExternalProjects/OOASP/asp_interactive_configuration/ooasp/ui.py:242\u001b[0m, in \u001b[0;36mOOASPUI.set_edit\u001b[0;34m(self)\u001b[0m\n\u001b[1;32m    240\u001b[0m     \u001b[38;5;28;01mreturn\u001b[39;00m\n\u001b[1;32m    241\u001b[0m \u001b[38;5;28;01mif\u001b[39;00m \u001b[38;5;129;01mnot\u001b[39;00m \u001b[38;5;28mself\u001b[39m\u001b[38;5;241m.\u001b[39miconf\u001b[38;5;241m.\u001b[39mbrave_config:\n\u001b[0;32m--> 242\u001b[0m     \u001b[38;5;28;43mself\u001b[39;49m\u001b[38;5;241;43m.\u001b[39;49m\u001b[43miconf\u001b[49m\u001b[38;5;241;43m.\u001b[39;49m\u001b[43m_get_options\u001b[49m\u001b[43m(\u001b[49m\u001b[43m)\u001b[49m\n\u001b[1;32m    243\u001b[0m \u001b[38;5;28mself\u001b[39m\u001b[38;5;241m.\u001b[39minvalid \u001b[38;5;241m=\u001b[39m \u001b[38;5;28mself\u001b[39m\u001b[38;5;241m.\u001b[39miconf\u001b[38;5;241m.\u001b[39mbrave_config \u001b[38;5;129;01mis\u001b[39;00m \u001b[38;5;28;01mNone\u001b[39;00m\n\u001b[1;32m    244\u001b[0m opts \u001b[38;5;241m=\u001b[39m \u001b[38;5;28mself\u001b[39m\u001b[38;5;241m.\u001b[39miconf\u001b[38;5;241m.\u001b[39m_brave_config_as_options()\n",
      "File \u001b[0;32m~/Documents/Education/PhD/ExternalProjects/OOASP/asp_interactive_configuration/ooasp/interactive.py:616\u001b[0m, in \u001b[0;36mInteractiveConfigurator._get_options\u001b[0;34m(self)\u001b[0m\n\u001b[1;32m    614\u001b[0m \u001b[38;5;28mself\u001b[39m\u001b[38;5;241m.\u001b[39mctl\u001b[38;5;241m.\u001b[39massign_external(Function(\u001b[38;5;124m\"\u001b[39m\u001b[38;5;124mcheck_potential_cv\u001b[39m\u001b[38;5;124m\"\u001b[39m), \u001b[38;5;28;01mFalse\u001b[39;00m)\n\u001b[1;32m    615\u001b[0m \u001b[38;5;28mself\u001b[39m\u001b[38;5;241m.\u001b[39m_set_user_externals()\n\u001b[0;32m--> 616\u001b[0m \u001b[38;5;28;43mself\u001b[39;49m\u001b[38;5;241;43m.\u001b[39;49m\u001b[43m_translate_fclingo\u001b[49m\u001b[43m(\u001b[49m\u001b[43m)\u001b[49m\n\u001b[1;32m    617\u001b[0m \u001b[38;5;28mself\u001b[39m\u001b[38;5;241m.\u001b[39mctl\u001b[38;5;241m.\u001b[39mconfiguration\u001b[38;5;241m.\u001b[39msolve\u001b[38;5;241m.\u001b[39menum_mode \u001b[38;5;241m=\u001b[39m \u001b[38;5;124m'\u001b[39m\u001b[38;5;124mbrave\u001b[39m\u001b[38;5;124m'\u001b[39m\n\u001b[1;32m    618\u001b[0m \u001b[38;5;28mself\u001b[39m\u001b[38;5;241m.\u001b[39mctl\u001b[38;5;241m.\u001b[39mconfiguration\u001b[38;5;241m.\u001b[39msolve\u001b[38;5;241m.\u001b[39mopt_mode \u001b[38;5;241m=\u001b[39m \u001b[38;5;124m'\u001b[39m\u001b[38;5;124mignore\u001b[39m\u001b[38;5;124m'\u001b[39m\n",
      "File \u001b[0;32m~/Documents/Education/PhD/ExternalProjects/OOASP/asp_interactive_configuration/ooasp/interactive.py:275\u001b[0m, in \u001b[0;36mInteractiveConfigurator._translate_fclingo\u001b[0;34m(self)\u001b[0m\n\u001b[1;32m    273\u001b[0m \u001b[38;5;28;01mfor\u001b[39;00m atom \u001b[38;5;129;01min\u001b[39;00m \u001b[38;5;28mself\u001b[39m\u001b[38;5;241m.\u001b[39mctl\u001b[38;5;241m.\u001b[39mtheory_atoms:\n\u001b[1;32m    274\u001b[0m     new_theory_atoms\u001b[38;5;241m.\u001b[39madd(ConstraintAtom\u001b[38;5;241m.\u001b[39mcopy(atom))\n\u001b[0;32m--> 275\u001b[0m \u001b[38;5;28;43mself\u001b[39;49m\u001b[38;5;241;43m.\u001b[39;49m\u001b[43mftranslator\u001b[49m\u001b[38;5;241;43m.\u001b[39;49m\u001b[43mtranslate\u001b[49m\u001b[43m(\u001b[49m\u001b[43mnew_theory_atoms\u001b[49m\u001b[43m)\u001b[49m\n",
      "File \u001b[0;32m~/Developer/anaconda3/envs/ooasp/lib/python3.9/site-packages/fclingo/translator.py:706\u001b[0m, in \u001b[0;36mTranslator.translate\u001b[0;34m(self, theory_atoms)\u001b[0m\n\u001b[1;32m    699\u001b[0m \u001b[38;5;28;01mdef\u001b[39;00m \u001b[38;5;21mtranslate\u001b[39m(\u001b[38;5;28mself\u001b[39m, theory_atoms):\n\u001b[1;32m    700\u001b[0m \u001b[38;5;250m    \u001b[39m\u001b[38;5;124;03m\"\"\"\u001b[39;00m\n\u001b[1;32m    701\u001b[0m \u001b[38;5;124;03m    Translates ASP program with constraint atoms including assignments and conditionals into a Clingcon program.\u001b[39;00m\n\u001b[1;32m    702\u001b[0m \u001b[38;5;124;03m    Adds rules implementing definition of variables, assignments,\u001b[39;00m\n\u001b[1;32m    703\u001b[0m \u001b[38;5;124;03m    conditional linear constraint atoms and aggregates max and min.\u001b[39;00m\n\u001b[1;32m    704\u001b[0m \u001b[38;5;124;03m    Returns sum constraints to be added to Clingcon.\u001b[39;00m\n\u001b[1;32m    705\u001b[0m \u001b[38;5;124;03m    \"\"\"\u001b[39;00m\n\u001b[0;32m--> 706\u001b[0m     \u001b[38;5;28;43mself\u001b[39;49m\u001b[38;5;241;43m.\u001b[39;49m\u001b[43m_translate_constraints\u001b[49m\u001b[43m(\u001b[49m\u001b[43mtheory_atoms\u001b[49m\u001b[43m)\u001b[49m\n\u001b[1;32m    707\u001b[0m     \u001b[38;5;28mself\u001b[39m\u001b[38;5;241m.\u001b[39m_fix_undefined()\n\u001b[1;32m    708\u001b[0m     \u001b[38;5;28mself\u001b[39m\u001b[38;5;241m.\u001b[39m_prg\u001b[38;5;241m.\u001b[39mcleanup()\n",
      "File \u001b[0;32m~/Developer/anaconda3/envs/ooasp/lib/python3.9/site-packages/fclingo/translator.py:697\u001b[0m, in \u001b[0;36mTranslator._translate_constraints\u001b[0;34m(self, theory_atoms)\u001b[0m\n\u001b[1;32m    695\u001b[0m \u001b[38;5;28;01mdef\u001b[39;00m \u001b[38;5;21m_translate_constraints\u001b[39m(\u001b[38;5;28mself\u001b[39m, theory_atoms):\n\u001b[1;32m    696\u001b[0m     \u001b[38;5;28;01mfor\u001b[39;00m atom \u001b[38;5;129;01min\u001b[39;00m theory_atoms:\n\u001b[0;32m--> 697\u001b[0m         \u001b[38;5;28;43mself\u001b[39;49m\u001b[38;5;241;43m.\u001b[39;49m\u001b[43m_translate_constraint\u001b[49m\u001b[43m(\u001b[49m\u001b[43matom\u001b[49m\u001b[43m)\u001b[49m\n",
      "File \u001b[0;32m~/Developer/anaconda3/envs/ooasp/lib/python3.9/site-packages/fclingo/translator.py:665\u001b[0m, in \u001b[0;36mTranslator._translate_constraint\u001b[0;34m(self, atom)\u001b[0m\n\u001b[1;32m    663\u001b[0m     \u001b[38;5;28;01mfor\u001b[39;00m var \u001b[38;5;129;01min\u001b[39;00m \u001b[38;5;28mself\u001b[39m\u001b[38;5;241m.\u001b[39mvars(element\u001b[38;5;241m.\u001b[39mterms[\u001b[38;5;241m0\u001b[39m]):\n\u001b[1;32m    664\u001b[0m         def_lit \u001b[38;5;241m=\u001b[39m \u001b[38;5;28mself\u001b[39m\u001b[38;5;241m.\u001b[39m_add_defined(var)\n\u001b[0;32m--> 665\u001b[0m         \u001b[38;5;28;43mself\u001b[39;49m\u001b[38;5;241;43m.\u001b[39;49m\u001b[43m_add_rule\u001b[49m\u001b[43m(\u001b[49m\u001b[43m[\u001b[49m\u001b[43mdef_lit\u001b[49m\u001b[43m]\u001b[49m\u001b[43m,\u001b[49m\u001b[43m \u001b[49m\u001b[43m[\u001b[49m\u001b[43m]\u001b[49m\u001b[43m)\u001b[49m\n\u001b[1;32m    666\u001b[0m \u001b[38;5;28;01mfor\u001b[39;00m var \u001b[38;5;129;01min\u001b[39;00m \u001b[38;5;28mself\u001b[39m\u001b[38;5;241m.\u001b[39mvars(atom\u001b[38;5;241m.\u001b[39mguard[\u001b[38;5;241m1\u001b[39m]):\n\u001b[1;32m    667\u001b[0m     def_lit \u001b[38;5;241m=\u001b[39m \u001b[38;5;28mself\u001b[39m\u001b[38;5;241m.\u001b[39m_add_defined(var)\n",
      "File \u001b[0;32m~/Developer/anaconda3/envs/ooasp/lib/python3.9/site-packages/fclingo/translator.py:260\u001b[0m, in \u001b[0;36mTranslator._add_rule\u001b[0;34m(self, head, body, choice)\u001b[0m\n\u001b[1;32m    258\u001b[0m \u001b[38;5;28;01mdef\u001b[39;00m \u001b[38;5;21m_add_rule\u001b[39m(\u001b[38;5;28mself\u001b[39m, head, body, choice\u001b[38;5;241m=\u001b[39m\u001b[38;5;28;01mFalse\u001b[39;00m):\n\u001b[1;32m    259\u001b[0m     \u001b[38;5;28;01mwith\u001b[39;00m \u001b[38;5;28mself\u001b[39m\u001b[38;5;241m.\u001b[39m_prg\u001b[38;5;241m.\u001b[39mbackend() \u001b[38;5;28;01mas\u001b[39;00m backend:\n\u001b[0;32m--> 260\u001b[0m         \u001b[43mbackend\u001b[49m\u001b[38;5;241;43m.\u001b[39;49m\u001b[43madd_rule\u001b[49m\u001b[43m(\u001b[49m\u001b[43mhead\u001b[49m\u001b[43m,\u001b[49m\u001b[43m \u001b[49m\u001b[43mbody\u001b[49m\u001b[43m,\u001b[49m\u001b[43m \u001b[49m\u001b[43mchoice\u001b[49m\u001b[43m)\u001b[49m\n\u001b[1;32m    261\u001b[0m     \u001b[38;5;28;01mif\u001b[39;00m \u001b[38;5;28mself\u001b[39m\u001b[38;5;241m.\u001b[39m_appconfig\u001b[38;5;241m.\u001b[39mprint_trans:\n\u001b[1;32m    262\u001b[0m         head_atoms \u001b[38;5;241m=\u001b[39m []\n",
      "File \u001b[0;32m~/Developer/anaconda3/envs/ooasp/lib/python3.9/site-packages/clingo/backend.py:750\u001b[0m, in \u001b[0;36mBackend.add_rule\u001b[0;34m(self, head, body, choice)\u001b[0m\n\u001b[1;32m    732\u001b[0m \u001b[38;5;250m\u001b[39m\u001b[38;5;124;03m\"\"\"\u001b[39;00m\n\u001b[1;32m    733\u001b[0m \u001b[38;5;124;03mAdd a disjuntive or choice rule to the program.\u001b[39;00m\n\u001b[1;32m    734\u001b[0m \n\u001b[0;32m   (...)\u001b[0m\n\u001b[1;32m    747\u001b[0m \u001b[38;5;124;03msingleton head list, respectively.\u001b[39;00m\n\u001b[1;32m    748\u001b[0m \u001b[38;5;124;03m\"\"\"\u001b[39;00m\n\u001b[1;32m    749\u001b[0m \u001b[38;5;66;03m# pylint: disable=dangerous-default-value\u001b[39;00m\n\u001b[0;32m--> 750\u001b[0m \u001b[43m_handle_error\u001b[49m\u001b[43m(\u001b[49m\n\u001b[1;32m    751\u001b[0m \u001b[43m    \u001b[49m\u001b[43m_lib\u001b[49m\u001b[38;5;241;43m.\u001b[39;49m\u001b[43mclingo_backend_rule\u001b[49m\u001b[43m(\u001b[49m\n\u001b[1;32m    752\u001b[0m \u001b[43m        \u001b[49m\u001b[38;5;28;43mself\u001b[39;49m\u001b[38;5;241;43m.\u001b[39;49m\u001b[43m_rep\u001b[49m\u001b[43m,\u001b[49m\u001b[43m \u001b[49m\u001b[43mchoice\u001b[49m\u001b[43m,\u001b[49m\u001b[43m \u001b[49m\u001b[43mhead\u001b[49m\u001b[43m,\u001b[49m\u001b[43m \u001b[49m\u001b[38;5;28;43mlen\u001b[39;49m\u001b[43m(\u001b[49m\u001b[43mhead\u001b[49m\u001b[43m)\u001b[49m\u001b[43m,\u001b[49m\u001b[43m \u001b[49m\u001b[43mbody\u001b[49m\u001b[43m,\u001b[49m\u001b[43m \u001b[49m\u001b[38;5;28;43mlen\u001b[39;49m\u001b[43m(\u001b[49m\u001b[43mbody\u001b[49m\u001b[43m)\u001b[49m\n\u001b[1;32m    753\u001b[0m \u001b[43m    \u001b[49m\u001b[43m)\u001b[49m\n\u001b[1;32m    754\u001b[0m \u001b[43m\u001b[49m\u001b[43m)\u001b[49m\n",
      "File \u001b[0;32m~/Developer/anaconda3/envs/ooasp/lib/python3.9/site-packages/clingo/_internal.py:75\u001b[0m, in \u001b[0;36m_handle_error\u001b[0;34m(ret, handler)\u001b[0m\n\u001b[1;32m     73\u001b[0m \u001b[38;5;28;01mif\u001b[39;00m code \u001b[38;5;241m==\u001b[39m _lib\u001b[38;5;241m.\u001b[39mclingo_error_bad_alloc:\n\u001b[1;32m     74\u001b[0m     \u001b[38;5;28;01mraise\u001b[39;00m \u001b[38;5;167;01mMemoryError\u001b[39;00m(msg)\n\u001b[0;32m---> 75\u001b[0m \u001b[38;5;28;01mraise\u001b[39;00m \u001b[38;5;167;01mRuntimeError\u001b[39;00m(msg)\n",
      "\u001b[0;31mRuntimeError\u001b[0m: redefinition of atom <'__def(ooasp_attr_fvalue(nr_seats,1))',1804>"
     ]
    }
   ],
   "source": [
    "ui = OOASPUI(iconf);"
   ]
  },
  {
   "cell_type": "code",
   "execution_count": null,
   "id": "017e68f0",
   "metadata": {},
   "outputs": [],
   "source": []
  }
 ],
 "metadata": {
  "kernelspec": {
   "display_name": "Python 3 (ipykernel)",
   "language": "python",
   "name": "python3"
  },
  "language_info": {
   "codemirror_mode": {
    "name": "ipython",
    "version": 3
   },
   "file_extension": ".py",
   "mimetype": "text/x-python",
   "name": "python",
   "nbconvert_exporter": "python",
   "pygments_lexer": "ipython3",
   "version": "3.9.17"
  },
  "vscode": {
   "interpreter": {
    "hash": "3335a44cbf2b74f58680e2551700befa5bcda97c93e395440ba937aba7deda85"
   }
  }
 },
 "nbformat": 4,
 "nbformat_minor": 5
}
