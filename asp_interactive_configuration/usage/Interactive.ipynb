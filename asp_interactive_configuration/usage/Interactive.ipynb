{
 "cells": [
  {
   "attachments": {},
   "cell_type": "markdown",
   "id": "7bfe89aa-a8f4-45d4-8c51-050a1ece3d84",
   "metadata": {},
   "source": [
    "# Interactive Configurator\n",
    "Copyright (c) 2022 Siemens AG Oesterreich\n",
    "SPDX-License-Identifier: MIT\n"
   ]
  },
  {
   "cell_type": "code",
   "execution_count": null,
   "id": "fada5d8e-6d79-47ad-ba64-6520709f2363",
   "metadata": {
    "tags": []
   },
   "outputs": [],
   "source": [
    "%cd ..\n",
    "from ooasp.interactive import InteractiveConfigurator\n",
    "from ooasp.kb import OOASPKnowledgeBase\n",
    "racks_kb = OOASPKnowledgeBase.from_file(\"racks_v1\",\"./examples/racks/kb.lp\")"
   ]
  },
  {
   "cell_type": "markdown",
   "id": "ab12268f-5324-4696-a2ba-50da538f6af5",
   "metadata": {},
   "source": [
    "------\n",
    "## Basic interaction\n",
    "------"
   ]
  },
  {
   "cell_type": "markdown",
   "id": "bf7815d5-57d5-461a-9475-8057a5cdcef2",
   "metadata": {},
   "source": [
    "### Start"
   ]
  },
  {
   "cell_type": "code",
   "execution_count": null,
   "id": "df539304-729c-486f-8560-30ddc234bcff",
   "metadata": {
    "collapsed": true,
    "jupyter": {
     "outputs_hidden": true
    }
   },
   "outputs": [],
   "source": [
    "iconf = InteractiveConfigurator(racks_kb,\"racks_config_1\",[\"./examples/racks/constraints.lp\"])"
   ]
  },
  {
   "cell_type": "markdown",
   "id": "25d62060-8d7c-4e66-960a-92f2345a001e",
   "metadata": {},
   "source": [
    "##### Help with all information"
   ]
  },
  {
   "cell_type": "code",
   "execution_count": null,
   "id": "d493b9d1-3201-44e5-950a-a1adae378106",
   "metadata": {
    "collapsed": true,
    "jupyter": {
     "outputs_hidden": true
    }
   },
   "outputs": [],
   "source": [
    "help(iconf)"
   ]
  },
  {
   "cell_type": "markdown",
   "id": "ef0b4861-b9e7-4a73-b759-723da3b97752",
   "metadata": {},
   "source": [
    "### Visualize"
   ]
  },
  {
   "cell_type": "code",
   "execution_count": null,
   "id": "a897659b-7bcf-4f65-b26e-429c6630ec07",
   "metadata": {
    "collapsed": true,
    "jupyter": {
     "outputs_hidden": true
    }
   },
   "outputs": [],
   "source": [
    "iconf.show_history()"
   ]
  },
  {
   "cell_type": "markdown",
   "id": "db4b2079-fe71-4d4f-bb44-66184055ddc8",
   "metadata": {},
   "source": [
    "##### Knowledge Base"
   ]
  },
  {
   "cell_type": "code",
   "execution_count": null,
   "id": "4b2a92ee-6c10-497e-8aff-4b596ccca8c4",
   "metadata": {
    "collapsed": true,
    "jupyter": {
     "outputs_hidden": true
    }
   },
   "outputs": [],
   "source": [
    "iconf.view_kb()"
   ]
  },
  {
   "cell_type": "markdown",
   "id": "14a03998-c400-472f-862f-fdfc900c3e68",
   "metadata": {},
   "source": [
    "##### Current partial configuration"
   ]
  },
  {
   "cell_type": "code",
   "execution_count": null,
   "id": "84f0cae5-1644-46d4-84c8-f4b3693d9cc6",
   "metadata": {
    "collapsed": true,
    "jupyter": {
     "outputs_hidden": true
    }
   },
   "outputs": [],
   "source": [
    "iconf.view()"
   ]
  },
  {
   "cell_type": "markdown",
   "id": "4ce7835f-566f-4c9d-98e9-4d4dac6cb08e",
   "metadata": {},
   "source": [
    "##### State of the interaactive configurator"
   ]
  },
  {
   "cell_type": "code",
   "execution_count": null,
   "id": "d707c3e8-9215-4af5-9ffc-097e51a4d6f1",
   "metadata": {
    "collapsed": true,
    "jupyter": {
     "outputs_hidden": true
    }
   },
   "outputs": [],
   "source": [
    "print(iconf)"
   ]
  },
  {
   "cell_type": "markdown",
   "id": "f5ef91df-6c6a-4271-b699-7b7ed9814dd8",
   "metadata": {},
   "source": [
    "### Check"
   ]
  },
  {
   "cell_type": "code",
   "execution_count": null,
   "id": "da198c76-8912-42e3-b6a2-24bf61dc89cb",
   "metadata": {
    "collapsed": true,
    "jupyter": {
     "outputs_hidden": true
    }
   },
   "outputs": [],
   "source": [
    "iconf.check()\n",
    "iconf.config.show_cv()"
   ]
  },
  {
   "cell_type": "markdown",
   "id": "617c87d3-0e14-4cef-92e9-c47e725a442a",
   "metadata": {},
   "source": [
    "------\n",
    "## Extending the domain\n",
    "------"
   ]
  },
  {
   "cell_type": "markdown",
   "id": "d568f8c8-3326-4c0b-840a-d4a2e72834a0",
   "metadata": {},
   "source": [
    "### Extend the domain"
   ]
  },
  {
   "cell_type": "code",
   "execution_count": null,
   "id": "3f1511fb-1e41-4fef-a745-1f7a1ae630bb",
   "metadata": {
    "collapsed": true,
    "jupyter": {
     "outputs_hidden": true
    }
   },
   "outputs": [],
   "source": [
    "iconf.extend_domain(5)"
   ]
  },
  {
   "cell_type": "markdown",
   "id": "0531a854-bf0b-4222-853a-11e182a40e57",
   "metadata": {},
   "source": [
    "### Add a leaf"
   ]
  },
  {
   "cell_type": "code",
   "execution_count": null,
   "id": "e14de2cc-f36b-4745-8490-49c23513f941",
   "metadata": {
    "collapsed": true,
    "jupyter": {
     "outputs_hidden": true
    }
   },
   "outputs": [],
   "source": [
    "iconf.new_leaf('frame')"
   ]
  },
  {
   "cell_type": "markdown",
   "id": "2bba180c-6924-4b2e-84de-f2c7e5d15784",
   "metadata": {},
   "source": [
    "------\n",
    "## Searching for solutions\n",
    "------"
   ]
  },
  {
   "cell_type": "markdown",
   "id": "1f68382d-3f01-4acc-b454-9b95b14a3f79",
   "metadata": {
    "tags": []
   },
   "source": [
    "### Browse solutions"
   ]
  },
  {
   "cell_type": "code",
   "execution_count": null,
   "id": "f0378ca5-befb-49c7-8374-e8a19d92f89a",
   "metadata": {
    "collapsed": true,
    "jupyter": {
     "outputs_hidden": true
    },
    "tags": []
   },
   "outputs": [],
   "source": [
    "iconf.next_solution()\n",
    "iconf.view_found()"
   ]
  },
  {
   "cell_type": "markdown",
   "id": "b166d423-618b-4aea-ba98-e1f2a15197e8",
   "metadata": {},
   "source": [
    "### Extend incrementally"
   ]
  },
  {
   "cell_type": "code",
   "execution_count": null,
   "id": "6f998931-a8ca-445c-8424-4eeaf8ac50cd",
   "metadata": {
    "collapsed": true,
    "jupyter": {
     "outputs_hidden": true
    }
   },
   "outputs": [],
   "source": [
    "iconf.extend_incrementally()\n",
    "iconf.view_found()"
   ]
  },
  {
   "cell_type": "markdown",
   "id": "87c4da05-5025-4e67-bbc3-cd48c0b9bd0c",
   "metadata": {},
   "source": [
    "### Select found configuration"
   ]
  },
  {
   "cell_type": "code",
   "execution_count": null,
   "id": "45636e56-893f-4b5a-817d-0e99bb177500",
   "metadata": {
    "collapsed": true,
    "jupyter": {
     "outputs_hidden": true
    }
   },
   "outputs": [],
   "source": [
    "iconf.select_found_configuration()"
   ]
  },
  {
   "cell_type": "markdown",
   "id": "0ebfd341-ecfc-4a69-8971-5e0bdccd3121",
   "metadata": {},
   "source": [
    "------\n",
    "## Modifing current (partial) configuration\n",
    "------"
   ]
  },
  {
   "cell_type": "markdown",
   "id": "e5af18df-6ec9-44d7-a5a3-b36bec331cef",
   "metadata": {},
   "source": [
    "### Select leaf class"
   ]
  },
  {
   "cell_type": "code",
   "execution_count": null,
   "id": "6909b914-1057-4aab-8fe3-99bc578c5600",
   "metadata": {
    "collapsed": true,
    "jupyter": {
     "outputs_hidden": true
    }
   },
   "outputs": [],
   "source": [
    "iconf.select_leaf_class(1,'rackDouble')"
   ]
  },
  {
   "cell_type": "markdown",
   "id": "54c3d57b-4073-4949-a80d-9f03a5476a62",
   "metadata": {},
   "source": [
    "### Select a value"
   ]
  },
  {
   "cell_type": "code",
   "execution_count": null,
   "id": "69d2c683-d0f1-4a2c-89c9-29168c4004e9",
   "metadata": {
    "collapsed": true,
    "jupyter": {
     "outputs_hidden": true
    }
   },
   "outputs": [],
   "source": [
    "iconf.select_value(1,'frame_position',1)"
   ]
  },
  {
   "cell_type": "markdown",
   "id": "6e54dba8-28c3-4c6e-b853-8fa7e3969e10",
   "metadata": {},
   "source": [
    "### Select Association"
   ]
  },
  {
   "cell_type": "code",
   "execution_count": null,
   "id": "0506cba1-9af4-4b4f-9920-315d549ecc5a",
   "metadata": {
    "collapsed": true,
    "jupyter": {
     "outputs_hidden": true
    }
   },
   "outputs": [],
   "source": [
    "iconf.select_association('rack_frames',1,5)"
   ]
  },
  {
   "cell_type": "markdown",
   "id": "0b2cc929-ad73-4452-8920-b7b42751803f",
   "metadata": {},
   "source": [
    "### Remove leaf class"
   ]
  },
  {
   "cell_type": "code",
   "execution_count": null,
   "id": "d79fa48e-1b9f-4f6a-b74b-f717fe71b2fb",
   "metadata": {
    "collapsed": true,
    "jupyter": {
     "outputs_hidden": true
    }
   },
   "outputs": [],
   "source": [
    "iconf.remove_leaf_class(1)"
   ]
  },
  {
   "cell_type": "markdown",
   "id": "a99e70ee-80e5-4fd6-b25d-7f9f16e2ccad",
   "metadata": {},
   "source": [
    "### Remove value"
   ]
  },
  {
   "cell_type": "code",
   "execution_count": null,
   "id": "cb18f6f6-021f-414e-8468-6e8eac7e1fa6",
   "metadata": {
    "collapsed": true,
    "jupyter": {
     "outputs_hidden": true
    }
   },
   "outputs": [],
   "source": [
    "iconf.remove_value(4,'frame_position')"
   ]
  },
  {
   "cell_type": "markdown",
   "id": "832d0caa-8ca2-4ef6-8dbc-00a953d5b1c1",
   "metadata": {},
   "source": [
    "### Remove association"
   ]
  },
  {
   "cell_type": "code",
   "execution_count": null,
   "id": "5fde9f3c-90a3-4309-bfb1-f846b096a574",
   "metadata": {
    "collapsed": true,
    "jupyter": {
     "outputs_hidden": true
    }
   },
   "outputs": [],
   "source": [
    "iconf.remove_association('rack_fames',1,2)"
   ]
  },
  {
   "cell_type": "markdown",
   "id": "5e24dba5-55ec-4f7f-a2be-3a136ab7e197",
   "metadata": {},
   "source": [
    "### Show options for current configuration"
   ]
  },
  {
   "cell_type": "code",
   "execution_count": null,
   "id": "94b21cf8-1272-4322-8a28-00dd876f5968",
   "metadata": {
    "collapsed": true,
    "jupyter": {
     "outputs_hidden": true
    }
   },
   "outputs": [],
   "source": [
    "# TODO: fix this\n",
    "iconf.show_options()"
   ]
  },
  {
   "cell_type": "code",
   "execution_count": null,
   "id": "b7d65a2a",
   "metadata": {},
   "outputs": [],
   "source": []
  }
 ],
 "metadata": {
  "kernelspec": {
   "display_name": ".venv",
   "language": "python",
   "name": "python3"
  },
  "language_info": {
   "codemirror_mode": {
    "name": "ipython",
    "version": 3
   },
   "file_extension": ".py",
   "mimetype": "text/x-python",
   "name": "python",
   "nbconvert_exporter": "python",
   "pygments_lexer": "ipython3",
   "version": "3.9.6 (tags/v3.9.6:db3ff76, Jun 28 2021, 15:26:21) [MSC v.1929 64 bit (AMD64)]"
  },
  "vscode": {
   "interpreter": {
    "hash": "3335a44cbf2b74f58680e2551700befa5bcda97c93e395440ba937aba7deda85"
   }
  }
 },
 "nbformat": 4,
 "nbformat_minor": 5
}
