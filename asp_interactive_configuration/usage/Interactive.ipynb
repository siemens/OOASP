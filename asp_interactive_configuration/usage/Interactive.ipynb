{
 "cells": [
  {
   "cell_type": "markdown",
   "id": "7bfe89aa-a8f4-45d4-8c51-050a1ece3d84",
   "metadata": {},
   "source": [
    "# Interactive Configurator\n",
    "Copyright (c) 2022 Siemens AG Oesterreich\n",
    "SPDX-License-Identifier: MIT\n"
   ]
  },
  {
   "cell_type": "code",
   "execution_count": 1,
   "id": "fada5d8e-6d79-47ad-ba64-6520709f2363",
   "metadata": {
    "tags": []
   },
   "outputs": [
    {
     "name": "stdout",
     "output_type": "stream",
     "text": [
      "/Users/susana/Education/Phd/ExternalProjects/OOASP/asp_interactive_configuration\n"
     ]
    }
   ],
   "source": [
    "%cd ..\n",
    "import ooasp.settings as settings\n",
    "settings.init('defined')\n",
    "from ooasp.interactive import InteractiveConfigurator\n",
    "from ooasp.kb import OOASPKnowledgeBase\n",
    "racks_kb = OOASPKnowledgeBase.from_file(\"racks_v1\",\"./examples/defined/racks/kb.lp\")"
   ]
  },
  {
   "cell_type": "markdown",
   "id": "ab12268f-5324-4696-a2ba-50da538f6af5",
   "metadata": {},
   "source": [
    "------\n",
    "## Basic interaction\n",
    "------"
   ]
  },
  {
   "cell_type": "markdown",
   "id": "bf7815d5-57d5-461a-9475-8057a5cdcef2",
   "metadata": {},
   "source": [
    "### Start"
   ]
  },
  {
   "cell_type": "code",
   "execution_count": 2,
   "id": "df539304-729c-486f-8560-30ddc234bcff",
   "metadata": {
    "tags": []
   },
   "outputs": [],
   "source": [
    "iconf = InteractiveConfigurator(racks_kb,\"racks_config_1\",[\"./examples/defined/racks/constraints.lp\"])"
   ]
  },
  {
   "cell_type": "markdown",
   "id": "25d62060-8d7c-4e66-960a-92f2345a001e",
   "metadata": {
    "tags": []
   },
   "source": [
    "##### Help with all information"
   ]
  },
  {
   "cell_type": "code",
   "execution_count": 3,
   "id": "d493b9d1-3201-44e5-950a-a1adae378106",
   "metadata": {
    "tags": []
   },
   "outputs": [
    {
     "name": "stdout",
     "output_type": "stream",
     "text": [
      "Help on InteractiveConfigurator in module ooasp.interactive object:\n",
      "\n",
      "class InteractiveConfigurator(builtins.object)\n",
      " |  InteractiveConfigurator(kb: ooasp.kb.OOASPKnowledgeBase, config_name: str, additional_files: List = None, additional_prg: str = '')\n",
      " |  \n",
      " |  Handles the interactive process of a configuration\n",
      " |      Properties:\n",
      " |          kb (OOASPKnowledgeBase): The Knowledge base\n",
      " |          config_name (str): The name of the configuration\n",
      " |          states (List[State]): The list of all states\n",
      " |          additional_files (List[str]): The list of additional lp files\n",
      " |          found_config (OOASPConfig):  The complete configuration found in the browsing\n",
      " |          brave_config (OOASPConfig):  The brave configuration found with all the options\n",
      " |          last_size_grounded (int): The last size that was grounded\n",
      " |  \n",
      " |  Methods defined here:\n",
      " |  \n",
      " |  __init__(self, kb: ooasp.kb.OOASPKnowledgeBase, config_name: str, additional_files: List = None, additional_prg: str = '')\n",
      " |      Creates an interactive configuratior\n",
      " |          Parameters:\n",
      " |              kb: The Knowledge base\n",
      " |              config_name: The name of the configuration\n",
      " |              additional_files: A list of .lp files to include in the control\n",
      " |  \n",
      " |  __str__(self)\n",
      " |      Return str(self).\n",
      " |  \n",
      " |  check(self) -> None\n",
      " |      Creates a new state.\n",
      " |      Runs the checks on the current (partial) configuration.\n",
      " |      The generated cv atoms are added to the current configuration.\n",
      " |          Returns:\n",
      " |              True if the current (partial) configuration as no erros, False otherwise\n",
      " |  \n",
      " |  end_browsing(self) -> None\n",
      " |      Cancels any browsing process and removes\n",
      " |      any previously computed options in the brave config\n",
      " |  \n",
      " |  extend_domain(self, num: int = 1, cls='object', propagate=False) -> None\n",
      " |      Creates a state with a new configuration.\n",
      " |      Increases the domain size and adds a new domain(object,N) fact to\n",
      " |      the configuration.\n",
      " |          Parameters:\n",
      " |              num: The number of new objects that will be added\n",
      " |  \n",
      " |  extend_incrementally(self, domain_limit: int = 100) -> ooasp.config.OOASPConfiguration\n",
      " |      Creates a state with a new configuration.\n",
      " |      Trys to find a solution for the current domain size, if a solution is\n",
      " |      found it is returned otherwise it will increase the domain by one\n",
      " |      and look for solution until one is found.\n",
      " |      Sets the found configuration based on the next computed model.\n",
      " |      The found configuration can be selected as the new one using select_found_configuration\n",
      " |      \n",
      " |      This will affect the Number of object in the current configuration\n",
      " |      even if the found configuration is never selected.\n",
      " |      \n",
      " |          Parameters:\n",
      " |              domain_limit: The limit size the domain can reach\n",
      " |          Returns:\n",
      " |              The found OOASPConfiguration or None if no more solutions are found\n",
      " |  \n",
      " |  get_options(self) -> None\n",
      " |      Creates a new state.\n",
      " |      Gets a Configuration where the facts are the union of all stable models.\n",
      " |          Returns:\n",
      " |              An OOASPConfiguration object with all the options\n",
      " |  \n",
      " |  new_object(self, leaf_class: str) -> None\n",
      " |      Creates a state with a new configuration.\n",
      " |      Increases the domain size by one and adds a new domain(object,N) fact to\n",
      " |      Selects the leaf class for the new object\n",
      " |      the configuration.\n",
      " |          Parameters:\n",
      " |              leaf_class: The name of the leaf class\n",
      " |  \n",
      " |  next_solution(self) -> ooasp.config.OOASPConfiguration\n",
      " |      Creates a new state.\n",
      " |      Gets the next avaliable solution for the current configuration without increasing the domain size.\n",
      " |      If there is an ongoing browsing process it will continue using\n",
      " |      the given iterator, otherwise it will ground any missing steps and solve.\n",
      " |      Sets the found configuration based on the next computed model.\n",
      " |      The found configuration can be selected as the new one using select_found_configuration\n",
      " |          Returns:\n",
      " |              The found OOASPConfiguration or None if no more solutions are found\n",
      " |  \n",
      " |  remove_association(self, assoc_name: str, object_id1: int, object_id2: int) -> None\n",
      " |      Creates a state with a new configuration.\n",
      " |      Removes an association from the configuration\n",
      " |          Parameters:\n",
      " |              assoc_name: Name of the association\n",
      " |              object_id1: Id of the first object\n",
      " |              object_id1: Id of the second object\n",
      " |  \n",
      " |  remove_leaf_class(self, object_id: int) -> None\n",
      " |      Creates a state with a new configuration.\n",
      " |      Removes the leaf class selection for an object\n",
      " |          Parameters:\n",
      " |              object_id: Id of the object\n",
      " |  \n",
      " |  remove_value(self, object_id: int, attr_name: str) -> None\n",
      " |      Creates a state with a new configuration.\n",
      " |      Removes the value of an attribute for an object\n",
      " |          Parameters:\n",
      " |              object_id: Id of the object\n",
      " |              attr_name: Name of the attribute\n",
      " |  \n",
      " |  select_association(self, assoc_name: str, object_id1: int, object_id2: int) -> None\n",
      " |      Creates a state with a new configuration.\n",
      " |      Selects an association\n",
      " |          Parameters:\n",
      " |              assoc_name: Name of the association\n",
      " |              object_id1: Id of the first object\n",
      " |              object_id1: Id of the second object\n",
      " |  \n",
      " |  select_found_configuration(self) -> None\n",
      " |      Selects the configuration found while browsing as the partial configuration.\n",
      " |      This way the condiguration found can be eddited or extended.\n",
      " |  \n",
      " |  select_object_class(self, object_id: int, leaf_class: str) -> None\n",
      " |      Creates a state with a new configuration.\n",
      " |      Removes any current leaf selection for the object.\n",
      " |      Selects the leaf class for the object.\n",
      " |          Parameters:\n",
      " |              object_id: Id of the object\n",
      " |          Throws:\n",
      " |              Error in case the leaf_class is not really a leaf class\n",
      " |  \n",
      " |  select_value(self, object_id: int, attr_name: str, attr_value) -> None\n",
      " |      Creates a state with a new configuration.\n",
      " |      Removes any current selection for the attribute.\n",
      " |      Selects the value the attribute.\n",
      " |          Parameters:\n",
      " |              object_id: Id of the object\n",
      " |              attr_name: Name of the attribute\n",
      " |              attr_value: Value of the attribute\n",
      " |  \n",
      " |  set_configuration(self, config: ooasp.config.OOASPConfiguration)\n",
      " |      Sets the current configuration to a new one\n",
      " |          Parameters:\n",
      " |              config: The new configuration\n",
      " |          Throws:\n",
      " |              Exception if the domain size of the new configuration\n",
      " |              is smaller.\n",
      " |  \n",
      " |  show_history(self) -> None\n",
      " |      Prints the hisotry\n",
      " |  \n",
      " |  show_options(self) -> None\n",
      " |      Prints the options for the current configuration.\n",
      " |      A brave config is computed with get_options it it was not computed already\n",
      " |  \n",
      " |  view(self) -> None\n",
      " |      Shows the image of the configuration in a jupyter notebook\n",
      " |  \n",
      " |  view_found(self) -> None\n",
      " |      Shows the image of the found configuration in a jupyter notebook\n",
      " |  \n",
      " |  view_kb(self) -> None\n",
      " |      Shows the image of the KB in a jupyter notebook\n",
      " |  \n",
      " |  ----------------------------------------------------------------------\n",
      " |  Readonly properties defined here:\n",
      " |  \n",
      " |  browsing\n",
      " |      If there is a current browsing process through the solutuions\n",
      " |  \n",
      " |  config\n",
      " |      The current (partial) configuration being constructed\n",
      " |  \n",
      " |  domain_size\n",
      " |      The size of the domain (How many objects have been created)\n",
      " |  \n",
      " |  history\n",
      " |      A string with the history of all executed actions\n",
      " |  \n",
      " |  state\n",
      " |      The current state of the interactive process\n",
      " |  \n",
      " |  ----------------------------------------------------------------------\n",
      " |  Data descriptors defined here:\n",
      " |  \n",
      " |  __dict__\n",
      " |      dictionary for instance variables (if defined)\n",
      " |  \n",
      " |  __weakref__\n",
      " |      list of weak references to the object (if defined)\n",
      "\n"
     ]
    }
   ],
   "source": [
    "help(iconf)"
   ]
  },
  {
   "cell_type": "markdown",
   "id": "ef0b4861-b9e7-4a73-b759-723da3b97752",
   "metadata": {},
   "source": [
    "### Visualize"
   ]
  },
  {
   "cell_type": "code",
   "execution_count": 4,
   "id": "a897659b-7bcf-4f65-b26e-429c6630ec07",
   "metadata": {
    "tags": []
   },
   "outputs": [
    {
     "name": "stdout",
     "output_type": "stream",
     "text": [
      "0. start\n"
     ]
    }
   ],
   "source": [
    "iconf.show_history()"
   ]
  },
  {
   "cell_type": "markdown",
   "id": "db4b2079-fe71-4d4f-bb44-66184055ddc8",
   "metadata": {},
   "source": [
    "##### Knowledge Base"
   ]
  },
  {
   "cell_type": "code",
   "execution_count": 5,
   "id": "4b2a92ee-6c10-497e-8aff-4b596ccca8c4",
   "metadata": {
    "tags": []
   },
   "outputs": [
    {
     "data": {
      "image/png": "[encoded data removed]",
      "text/plain": [
       "<IPython.core.display.Image object>"
      ]
     },
     "execution_count": 5,
     "metadata": {},
     "output_type": "execute_result"
    }
   ],
   "source": [
    "iconf.view_kb()"
   ]
  },
  {
   "cell_type": "markdown",
   "id": "14a03998-c400-472f-862f-fdfc900c3e68",
   "metadata": {},
   "source": [
    "##### Current partial configuration"
   ]
  },
  {
   "cell_type": "code",
   "execution_count": 3,
   "id": "84f0cae5-1644-46d4-84c8-f4b3693d9cc6",
   "metadata": {
    "tags": []
   },
   "outputs": [
    {
     "data": {
      "image/png": "[encoded data removed]",
      "text/plain": [
       "<IPython.core.display.Image object>"
      ]
     },
     "execution_count": 3,
     "metadata": {},
     "output_type": "execute_result"
    }
   ],
   "source": [
    "iconf.view()"
   ]
  },
  {
   "cell_type": "markdown",
   "id": "4ce7835f-566f-4c9d-98e9-4d4dac6cb08e",
   "metadata": {},
   "source": [
    "##### State of the interaactive configurator"
   ]
  },
  {
   "cell_type": "code",
   "execution_count": 29,
   "id": "d707c3e8-9215-4af5-9ffc-097e51a4d6f1",
   "metadata": {
    "tags": []
   },
   "outputs": [
    {
     "name": "stdout",
     "output_type": "stream",
     "text": [
      "\u001b[94m==========INTERACTIVE CONFIG==========\u001b[0m\n",
      "\u001b[90m{\n",
      "    \"kb\": \"racks_v1\",\n",
      "    \"config\": \"racks_config_1\",\n",
      "    \"browsing\": true,\n",
      "    \"found configuration \": true\n",
      "}\u001b[0m\n",
      "\u001b[96m----------Current State----------\u001b[0m\n",
      "\u001b[90m{\n",
      "    \"last action\": \"Browse solutions\",\n",
      "    \"number of objects\": 5,\n",
      "    \"config\": \"ooasp_domain(rackSingle,1).\\nooasp_domain(frame,2).\\nooasp_domain(frame,3).\\nooasp_domain(frame,4).\\nooasp_domain(frame,5).\\nooasp_isa(rackSingle,1).\\n\"\n",
      "}\u001b[0m\n",
      "\n"
     ]
    }
   ],
   "source": [
    "print(iconf)"
   ]
  },
  {
   "cell_type": "markdown",
   "id": "f5ef91df-6c6a-4271-b699-7b7ed9814dd8",
   "metadata": {},
   "source": [
    "### Check"
   ]
  },
  {
   "cell_type": "code",
   "execution_count": 10,
   "id": "da198c76-8912-42e3-b6a2-24bf61dc89cb",
   "metadata": {
    "tags": []
   },
   "outputs": [
    {
     "name": "stdout",
     "output_type": "stream",
     "text": [
      "[ooasp_isa(rackSingle,1)]\n",
      "Assigning\n",
      "user(ooasp_isa(rackSingle,1))\n",
      "ooasp_subclass(rack,object) ooasp_subclass(rackSingle,rack) ooasp_subclass(rackDouble,rack) ooasp_subclass(frame,object) ooasp_subclass(element,object) ooasp_subclass(elementA,element) ooasp_subclass(elementB,element) ooasp_subclass(elementC,element) ooasp_subclass(elementD,element) ooasp_subclass(module,object) ooasp_subclass(moduleI,module) ooasp_subclass(moduleII,module) ooasp_subclass(moduleIII,module) ooasp_subclass(moduleIV,module) ooasp_subclass(moduleV,module) ooasp_subclass(moduleI,object) ooasp_subclass(moduleII,object) ooasp_subclass(moduleIII,object) ooasp_subclass(moduleIV,object) ooasp_subclass(moduleV,object) ooasp_subclass(elementA,object) ooasp_subclass(elementB,object) ooasp_subclass(elementC,object) ooasp_subclass(elementD,object) ooasp_subclass(rackSingle,object) ooasp_subclass(rackDouble,object) ooasp_subclass_ref(object,object) ooasp_subclass_ref(rack,rack) ooasp_subclass_ref(rackSingle,rackSingle) ooasp_subclass_ref(rackDouble,rackDouble) ooasp_subclass_ref(frame,frame) ooasp_subclass_ref(element,element) ooasp_subclass_ref(elementA,elementA) ooasp_subclass_ref(elementB,elementB) ooasp_subclass_ref(elementC,elementC) ooasp_subclass_ref(elementD,elementD) ooasp_subclass_ref(module,module) ooasp_subclass_ref(moduleI,moduleI) ooasp_subclass_ref(moduleII,moduleII) ooasp_subclass_ref(moduleIII,moduleIII) ooasp_subclass_ref(moduleIV,moduleIV) ooasp_subclass_ref(moduleV,moduleV) ooasp_subclass_ref(rack,object) ooasp_subclass_ref(rackSingle,rack) ooasp_subclass_ref(rackDouble,rack) ooasp_subclass_ref(frame,object) ooasp_subclass_ref(element,object) ooasp_subclass_ref(elementA,element) ooasp_subclass_ref(elementB,element) ooasp_subclass_ref(elementC,element) ooasp_subclass_ref(elementD,element) ooasp_subclass_ref(module,object) ooasp_subclass_ref(moduleI,module) ooasp_subclass_ref(moduleII,module) ooasp_subclass_ref(moduleIII,module) ooasp_subclass_ref(moduleIV,module) ooasp_subclass_ref(moduleV,module) ooasp_subclass_ref(moduleI,object) ooasp_subclass_ref(moduleII,object) ooasp_subclass_ref(moduleIII,object) ooasp_subclass_ref(moduleIV,object) ooasp_subclass_ref(moduleV,object) ooasp_subclass_ref(elementA,object) ooasp_subclass_ref(elementB,object) ooasp_subclass_ref(elementC,object) ooasp_subclass_ref(elementD,object) ooasp_subclass_ref(rackSingle,object) ooasp_subclass_ref(rackDouble,object) ooasp_class(object) ooasp_class(rack) ooasp_class(rackSingle) ooasp_class(rackDouble) ooasp_class(frame) ooasp_class(element) ooasp_class(elementA) ooasp_class(elementB) ooasp_class(elementC) ooasp_class(elementD) ooasp_class(module) ooasp_class(moduleI) ooasp_class(moduleII) ooasp_class(moduleIII) ooasp_class(moduleIV) ooasp_class(moduleV) ooasp_attr(frame,frame_position,int) ooasp_attr_enum(frame,frame_position,1) ooasp_attr_enum(frame,frame_position,2) ooasp_attr_enum(frame,frame_position,3) ooasp_attr_enum(frame,frame_position,4) ooasp_attr_enum(frame,frame_position,5) ooasp_attr_enum(frame,frame_position,6) ooasp_attr_enum(frame,frame_position,7) ooasp_attr_enum(frame,frame_position,8) ooasp_attr_hasdomain(frame,frame_position) ooasp_attr_maxInclusive(frame,frame_position,8) ooasp_attr_minInclusive(frame,frame_position,1) ooasp_leafclass(rackSingle) ooasp_leafclass(rackDouble) ooasp_leafclass(frame) ooasp_leafclass(elementA) ooasp_leafclass(elementB) ooasp_leafclass(elementC) ooasp_leafclass(elementD) ooasp_leafclass(moduleI) ooasp_leafclass(moduleII) ooasp_leafclass(moduleIII) ooasp_leafclass(moduleIV) ooasp_leafclass(moduleV) ooasp_assoc(rack_frames,rack,1,1,frame,4,8) ooasp_assoc(frame_modules,frame,1,1,module,0,5) ooasp_assoc(element_modules,element,0,1,module,1,4) ooasp_assoc_limit(rack_frames,max,2,frame,1) ooasp_assoc_limit(frame_modules,max,2,module,1) ooasp_assoc_limit(element_modules,max,2,module,1) ooasp_assoc_limit(rack_frames,min,2,frame,1) ooasp_assoc_limit(frame_modules,min,2,module,1) ooasp_assoc_limit(element_modules,min,2,module,0) ooasp_assoc_limit(rack_frames,max,1,rack,8) ooasp_assoc_limit(frame_modules,max,1,frame,5) ooasp_assoc_limit(element_modules,max,1,element,4) ooasp_assoc_limit(rack_frames,min,1,rack,4) ooasp_assoc_limit(frame_modules,min,1,frame,0) ooasp_assoc_limit(element_modules,min,1,element,1) ooasp_cv(notinstanceofdomain,1,\"Object class {} not in the domain {}\",(rackSingle,rackSingle)) ooasp_cv(notinstanceofdomain,1,\"Object class {} not in the domain {}\",(rack,rackSingle)) ooasp_cv(notinstanceofdomain,1,\"Object class {} not in the domain {}\",(object,rackSingle)) ooasp_cv(racksinglelowerbound,1,\"Rack singles should be associated to 4 frames \",(5,)) ooasp_cv(lowerbound,1,\"Lowerbound for association {} not reached: {}\",(rack_frames,4,5)) ooasp_isa(rackSingle,1) ooasp_isa(rack,1) ooasp_isa(object,1) user(ooasp_isa(rackSingle,1)) ooasp_kb ooasp_configuration(racks_v1,racks_config_1) use_symmetry assoc1_constraint(element_modules,elementA,1,moduleI) assoc1_constraint(element_modules,elementB,2,moduleII) assoc1_constraint(element_modules,elementC,3,moduleIII) assoc1_constraint(element_modules,elementD,4,moduleIV) ooasp_potential_cv(customlowerbound) ooasp_potential_cv(racksinglelowerbound) ooasp_potential_cv(rackdoublelowerbound) ooasp_potential_cv(module_requires_element) ooasp_potential_cv(moduleII_requires_moduleV) ooasp_potential_cv(lowerbound) ooasp_potential_cv(no_value) ooasp_domain(rackSingle,1) ooasp_domain(frame,2) ooasp_domain(frame,3) ooasp_domain(frame,4) ooasp_domain(frame,5) active(5)\n",
      "\u001b[91mObject 1: Object class rackSingle not in the domain rackSingle\u001b[0m\n",
      "\u001b[91mObject 1: Object class rack not in the domain rackSingle\u001b[0m\n",
      "\u001b[91mObject 1: Object class object not in the domain rackSingle\u001b[0m\n",
      "\u001b[91mObject 1: Rack singles should be associated to 4 frames \u001b[0m\n",
      "\u001b[91mObject 1: Lowerbound for association rack_frames not reached: 4\u001b[0m\n"
     ]
    }
   ],
   "source": [
    "iconf.check()\n",
    "iconf.config.show_cv()"
   ]
  },
  {
   "cell_type": "markdown",
   "id": "617c87d3-0e14-4cef-92e9-c47e725a442a",
   "metadata": {},
   "source": [
    "------\n",
    "## Extending the domain\n",
    "------"
   ]
  },
  {
   "cell_type": "markdown",
   "id": "56cd788a-9dd5-4876-a212-7df652c7c9c1",
   "metadata": {},
   "source": [
    "### Extend the domain and propagate associations"
   ]
  },
  {
   "cell_type": "code",
   "execution_count": 4,
   "id": "26b903ed-592a-40c3-9cbd-30bdccc2bd82",
   "metadata": {},
   "outputs": [],
   "source": [
    "iconf.extend_domain(1,'rackSingle',propagate=True)"
   ]
  },
  {
   "cell_type": "code",
   "execution_count": 11,
   "id": "4fce1943-6f36-4b6c-8f80-9878502aea6d",
   "metadata": {},
   "outputs": [
    {
     "data": {
      "image/png": "[encoded data removed]",
      "text/plain": [
       "<IPython.core.display.Image object>"
      ]
     },
     "execution_count": 11,
     "metadata": {},
     "output_type": "execute_result"
    }
   ],
   "source": [
    "iconf.view()"
   ]
  },
  {
   "cell_type": "code",
   "execution_count": 13,
   "id": "2687e01a-6477-4da4-9607-b3f17ba5ca84",
   "metadata": {},
   "outputs": [
    {
     "name": "stdout",
     "output_type": "stream",
     "text": [
      "[ooasp_isa(rackSingle,1)]\n",
      "Assigning\n",
      "user(ooasp_isa(rackSingle,1))\n",
      "ooasp_subclass(rack,object) ooasp_subclass(rackSingle,rack) ooasp_subclass(rackDouble,rack) ooasp_subclass(frame,object) ooasp_subclass(element,object) ooasp_subclass(elementA,element) ooasp_subclass(elementB,element) ooasp_subclass(elementC,element) ooasp_subclass(elementD,element) ooasp_subclass(module,object) ooasp_subclass(moduleI,module) ooasp_subclass(moduleII,module) ooasp_subclass(moduleIII,module) ooasp_subclass(moduleIV,module) ooasp_subclass(moduleV,module) ooasp_subclass(moduleI,object) ooasp_subclass(moduleII,object) ooasp_subclass(moduleIII,object) ooasp_subclass(moduleIV,object) ooasp_subclass(moduleV,object) ooasp_subclass(elementA,object) ooasp_subclass(elementB,object) ooasp_subclass(elementC,object) ooasp_subclass(elementD,object) ooasp_subclass(rackSingle,object) ooasp_subclass(rackDouble,object) ooasp_subclass_ref(object,object) ooasp_subclass_ref(rack,rack) ooasp_subclass_ref(rackSingle,rackSingle) ooasp_subclass_ref(rackDouble,rackDouble) ooasp_subclass_ref(frame,frame) ooasp_subclass_ref(element,element) ooasp_subclass_ref(elementA,elementA) ooasp_subclass_ref(elementB,elementB) ooasp_subclass_ref(elementC,elementC) ooasp_subclass_ref(elementD,elementD) ooasp_subclass_ref(module,module) ooasp_subclass_ref(moduleI,moduleI) ooasp_subclass_ref(moduleII,moduleII) ooasp_subclass_ref(moduleIII,moduleIII) ooasp_subclass_ref(moduleIV,moduleIV) ooasp_subclass_ref(moduleV,moduleV) ooasp_subclass_ref(rack,object) ooasp_subclass_ref(rackSingle,rack) ooasp_subclass_ref(rackDouble,rack) ooasp_subclass_ref(frame,object) ooasp_subclass_ref(element,object) ooasp_subclass_ref(elementA,element) ooasp_subclass_ref(elementB,element) ooasp_subclass_ref(elementC,element) ooasp_subclass_ref(elementD,element) ooasp_subclass_ref(module,object) ooasp_subclass_ref(moduleI,module) ooasp_subclass_ref(moduleII,module) ooasp_subclass_ref(moduleIII,module) ooasp_subclass_ref(moduleIV,module) ooasp_subclass_ref(moduleV,module) ooasp_subclass_ref(moduleI,object) ooasp_subclass_ref(moduleII,object) ooasp_subclass_ref(moduleIII,object) ooasp_subclass_ref(moduleIV,object) ooasp_subclass_ref(moduleV,object) ooasp_subclass_ref(elementA,object) ooasp_subclass_ref(elementB,object) ooasp_subclass_ref(elementC,object) ooasp_subclass_ref(elementD,object) ooasp_subclass_ref(rackSingle,object) ooasp_subclass_ref(rackDouble,object) ooasp_class(object) ooasp_class(rack) ooasp_class(rackSingle) ooasp_class(rackDouble) ooasp_class(frame) ooasp_class(element) ooasp_class(elementA) ooasp_class(elementB) ooasp_class(elementC) ooasp_class(elementD) ooasp_class(module) ooasp_class(moduleI) ooasp_class(moduleII) ooasp_class(moduleIII) ooasp_class(moduleIV) ooasp_class(moduleV) ooasp_attr(frame,frame_position,int) ooasp_attr_enum(frame,frame_position,1) ooasp_attr_enum(frame,frame_position,2) ooasp_attr_enum(frame,frame_position,3) ooasp_attr_enum(frame,frame_position,4) ooasp_attr_enum(frame,frame_position,5) ooasp_attr_enum(frame,frame_position,6) ooasp_attr_enum(frame,frame_position,7) ooasp_attr_enum(frame,frame_position,8) ooasp_attr_hasdomain(frame,frame_position) ooasp_attr_maxInclusive(frame,frame_position,8) ooasp_attr_minInclusive(frame,frame_position,1) ooasp_leafclass(rackSingle) ooasp_leafclass(rackDouble) ooasp_leafclass(frame) ooasp_leafclass(elementA) ooasp_leafclass(elementB) ooasp_leafclass(elementC) ooasp_leafclass(elementD) ooasp_leafclass(moduleI) ooasp_leafclass(moduleII) ooasp_leafclass(moduleIII) ooasp_leafclass(moduleIV) ooasp_leafclass(moduleV) ooasp_assoc(rack_frames,rack,1,1,frame,4,8) ooasp_assoc(frame_modules,frame,1,1,module,0,5) ooasp_assoc(element_modules,element,0,1,module,1,4) ooasp_assoc_limit(rack_frames,max,2,frame,1) ooasp_assoc_limit(frame_modules,max,2,module,1) ooasp_assoc_limit(element_modules,max,2,module,1) ooasp_assoc_limit(rack_frames,min,2,frame,1) ooasp_assoc_limit(frame_modules,min,2,module,1) ooasp_assoc_limit(element_modules,min,2,module,0) ooasp_assoc_limit(rack_frames,max,1,rack,8) ooasp_assoc_limit(frame_modules,max,1,frame,5) ooasp_assoc_limit(element_modules,max,1,element,4) ooasp_assoc_limit(rack_frames,min,1,rack,4) ooasp_assoc_limit(frame_modules,min,1,frame,0) ooasp_assoc_limit(element_modules,min,1,element,1) ooasp_cv(notinstanceofdomain,1,\"Object class {} not in the domain {}\",(rack,rackSingle)) ooasp_cv(notinstanceofdomain,1,\"Object class {} not in the domain {}\",(object,rackSingle)) ooasp_cv(racksinglelowerbound,1,\"Rack singles should be associated to 4 frames \",(5,)) ooasp_cv(lowerbound,1,\"Lowerbound for association {} not reached: {}\",(rack_frames,4,5)) ooasp_isa(rackSingle,1) ooasp_isa(rack,1) ooasp_isa(object,1) user(ooasp_isa(rackSingle,1)) ooasp_kb ooasp_configuration(racks_v1,racks_config_1) use_symmetry assoc1_constraint(element_modules,elementA,1,moduleI) assoc1_constraint(element_modules,elementB,2,moduleII) assoc1_constraint(element_modules,elementC,3,moduleIII) assoc1_constraint(element_modules,elementD,4,moduleIV) ooasp_potential_cv(customlowerbound) ooasp_potential_cv(racksinglelowerbound) ooasp_potential_cv(rackdoublelowerbound) ooasp_potential_cv(module_requires_element) ooasp_potential_cv(moduleII_requires_moduleV) ooasp_potential_cv(lowerbound) ooasp_potential_cv(no_value) ooasp_domain(rackSingle,1) ooasp_domain(frame,2) ooasp_domain(frame,3) ooasp_domain(frame,4) ooasp_domain(frame,5) active(5)\n"
     ]
    },
    {
     "data": {
      "text/plain": [
       "False"
      ]
     },
     "execution_count": 13,
     "metadata": {},
     "output_type": "execute_result"
    }
   ],
   "source": [
    "iconf.check()"
   ]
  },
  {
   "cell_type": "code",
   "execution_count": 14,
   "id": "53246f9d-bbca-4b0d-9c0c-f70cd65d1e94",
   "metadata": {},
   "outputs": [
    {
     "name": "stdout",
     "output_type": "stream",
     "text": [
      "\u001b[91mObject 1: Object class rack not in the domain rackSingle\u001b[0m\n",
      "\u001b[91mObject 1: Object class object not in the domain rackSingle\u001b[0m\n",
      "\u001b[91mObject 1: Rack singles should be associated to 4 frames \u001b[0m\n",
      "\u001b[91mObject 1: Lowerbound for association rack_frames not reached: 4\u001b[0m\n"
     ]
    }
   ],
   "source": [
    "iconf.config.show_cv()"
   ]
  },
  {
   "cell_type": "code",
   "execution_count": 9,
   "id": "5dca6541-27bd-416d-a675-fdef46c1c60f",
   "metadata": {},
   "outputs": [
    {
     "name": "stdout",
     "output_type": "stream",
     "text": [
      "No model\n",
      "No more solutions\n"
     ]
    }
   ],
   "source": [
    "found = iconf.next_solution()"
   ]
  },
  {
   "cell_type": "code",
   "execution_count": 8,
   "id": "7b828b12-0b1e-435c-9bef-f4c4145e6559",
   "metadata": {},
   "outputs": [
    {
     "data": {
      "image/png": "[encoded data removed]",
      "text/plain": [
       "<IPython.core.display.Image object>"
      ]
     },
     "execution_count": 8,
     "metadata": {},
     "output_type": "execute_result"
    }
   ],
   "source": [
    "found.view()"
   ]
  },
  {
   "cell_type": "code",
   "execution_count": 12,
   "id": "0006fd0a-4afb-42a0-9ff6-4bd4979a2c88",
   "metadata": {},
   "outputs": [],
   "source": [
    "iconf.select_object_class(1,'rackSingle')"
   ]
  },
  {
   "cell_type": "code",
   "execution_count": 11,
   "id": "fb518931-b893-46cb-97c9-c2fc76b06203",
   "metadata": {},
   "outputs": [
    {
     "data": {
      "image/png": "[encoded data removed]",
      "text/plain": [
       "<IPython.core.display.Image object>"
      ]
     },
     "execution_count": 11,
     "metadata": {},
     "output_type": "execute_result"
    }
   ],
   "source": [
    "iconf.extend_domain(1,'element',propagate=True)\n",
    "iconf.view()"
   ]
  },
  {
   "cell_type": "markdown",
   "id": "d568f8c8-3326-4c0b-840a-d4a2e72834a0",
   "metadata": {},
   "source": [
    "### Extend the domain"
   ]
  },
  {
   "cell_type": "code",
   "execution_count": 12,
   "id": "4c4b6dee-f357-411e-9ed2-60f747410f28",
   "metadata": {},
   "outputs": [],
   "source": [
    "iconf = InteractiveConfigurator(racks_kb,\"racks_config_1\",[\"./examples/defined/racks/constraints.lp\"])"
   ]
  },
  {
   "cell_type": "code",
   "execution_count": 13,
   "id": "3f1511fb-1e41-4fef-a745-1f7a1ae630bb",
   "metadata": {
    "tags": []
   },
   "outputs": [],
   "source": [
    "iconf.extend_domain(5)"
   ]
  },
  {
   "cell_type": "markdown",
   "id": "0531a854-bf0b-4222-853a-11e182a40e57",
   "metadata": {},
   "source": [
    "### Add a leaf"
   ]
  },
  {
   "cell_type": "code",
   "execution_count": 18,
   "id": "e14de2cc-f36b-4745-8490-49c23513f941",
   "metadata": {
    "tags": []
   },
   "outputs": [],
   "source": [
    "iconf.new_object('frame')"
   ]
  },
  {
   "cell_type": "code",
   "execution_count": 19,
   "id": "820b2861-979a-41fb-b392-9ebdf2f01f47",
   "metadata": {},
   "outputs": [
    {
     "data": {
      "image/png": "[encoded data removed]",
      "text/plain": [
       "<IPython.core.display.Image object>"
      ]
     },
     "execution_count": 19,
     "metadata": {},
     "output_type": "execute_result"
    }
   ],
   "source": [
    "iconf.view()"
   ]
  },
  {
   "cell_type": "code",
   "execution_count": 20,
   "id": "7b535a1c-6aed-4cf1-bb3f-54894c982fdc",
   "metadata": {},
   "outputs": [
    {
     "name": "stdout",
     "output_type": "stream",
     "text": [
      "\n",
      "\u001b[95m----------Options for object 1----------\u001b[0m\n",
      "\n",
      "select_object_class(1, 'frame')\n",
      "select_object_class(1, 'moduleI')\n",
      "select_object_class(1, 'moduleII')\n",
      "select_object_class(1, 'moduleIII')\n",
      "select_object_class(1, 'moduleIV')\n",
      "select_object_class(1, 'moduleV')\n",
      "select_object_class(1, 'elementA')\n",
      "select_object_class(1, 'elementB')\n",
      "select_object_class(1, 'elementC')\n",
      "select_object_class(1, 'elementD')\n",
      "select_object_class(1, 'rackSingle')\n",
      "select_object_class(1, 'rackDouble')\n",
      "select_value(1, 'frame_position', 1)\n",
      "select_value(1, 'frame_position', 2)\n",
      "select_value(1, 'frame_position', 3)\n",
      "select_value(1, 'frame_position', 4)\n",
      "select_value(1, 'frame_position', 5)\n",
      "select_value(1, 'frame_position', 6)\n",
      "select_value(1, 'frame_position', 7)\n",
      "select_value(1, 'frame_position', 8)\n",
      "select_association('rack_frames', 2, 1)\n",
      "select_association('frame_modules', 1, 2)\n",
      "select_association('element_modules', 1, 2)\n",
      "select_association('rack_frames', 3, 1)\n",
      "select_association('frame_modules', 1, 3)\n",
      "select_association('element_modules', 1, 3)\n",
      "select_association('rack_frames', 4, 1)\n",
      "select_association('frame_modules', 1, 4)\n",
      "select_association('element_modules', 1, 4)\n",
      "select_association('rack_frames', 5, 1)\n",
      "select_association('frame_modules', 1, 5)\n",
      "select_association('element_modules', 1, 5)\n",
      "select_association('frame_modules', 6, 1)\n",
      "select_association('rack_frames', 1, 6)\n",
      "select_association('frame_modules', 7, 1)\n",
      "select_association('rack_frames', 1, 7)\n",
      "\u001b[95m----------Options for object 2----------\u001b[0m\n",
      "\n",
      "select_object_class(2, 'frame')\n",
      "select_object_class(2, 'moduleI')\n",
      "select_object_class(2, 'moduleII')\n",
      "select_object_class(2, 'moduleIII')\n",
      "select_object_class(2, 'moduleIV')\n",
      "select_object_class(2, 'moduleV')\n",
      "select_object_class(2, 'elementA')\n",
      "select_object_class(2, 'elementB')\n",
      "select_object_class(2, 'elementC')\n",
      "select_object_class(2, 'elementD')\n",
      "select_object_class(2, 'rackSingle')\n",
      "select_object_class(2, 'rackDouble')\n",
      "select_value(2, 'frame_position', 1)\n",
      "select_value(2, 'frame_position', 2)\n",
      "select_value(2, 'frame_position', 3)\n",
      "select_value(2, 'frame_position', 4)\n",
      "select_value(2, 'frame_position', 5)\n",
      "select_value(2, 'frame_position', 6)\n",
      "select_value(2, 'frame_position', 7)\n",
      "select_value(2, 'frame_position', 8)\n",
      "select_association('rack_frames', 2, 1)\n",
      "select_association('frame_modules', 1, 2)\n",
      "select_association('element_modules', 1, 2)\n",
      "select_association('rack_frames', 3, 2)\n",
      "select_association('frame_modules', 2, 3)\n",
      "select_association('element_modules', 2, 3)\n",
      "select_association('rack_frames', 4, 2)\n",
      "select_association('frame_modules', 2, 4)\n",
      "select_association('element_modules', 2, 4)\n",
      "select_association('rack_frames', 5, 2)\n",
      "select_association('frame_modules', 2, 5)\n",
      "select_association('element_modules', 2, 5)\n",
      "select_association('frame_modules', 6, 2)\n",
      "select_association('rack_frames', 2, 6)\n",
      "select_association('frame_modules', 7, 2)\n",
      "select_association('rack_frames', 2, 7)\n",
      "\u001b[95m----------Options for object 3----------\u001b[0m\n",
      "\n",
      "select_object_class(3, 'frame')\n",
      "select_object_class(3, 'moduleI')\n",
      "select_object_class(3, 'moduleII')\n",
      "select_object_class(3, 'moduleIII')\n",
      "select_object_class(3, 'moduleIV')\n",
      "select_object_class(3, 'moduleV')\n",
      "select_object_class(3, 'elementA')\n",
      "select_object_class(3, 'elementB')\n",
      "select_object_class(3, 'elementC')\n",
      "select_object_class(3, 'elementD')\n",
      "select_object_class(3, 'rackSingle')\n",
      "select_object_class(3, 'rackDouble')\n",
      "select_value(3, 'frame_position', 1)\n",
      "select_value(3, 'frame_position', 2)\n",
      "select_value(3, 'frame_position', 3)\n",
      "select_value(3, 'frame_position', 4)\n",
      "select_value(3, 'frame_position', 5)\n",
      "select_value(3, 'frame_position', 6)\n",
      "select_value(3, 'frame_position', 7)\n",
      "select_value(3, 'frame_position', 8)\n",
      "select_association('rack_frames', 3, 1)\n",
      "select_association('rack_frames', 3, 2)\n",
      "select_association('frame_modules', 1, 3)\n",
      "select_association('frame_modules', 2, 3)\n",
      "select_association('element_modules', 1, 3)\n",
      "select_association('element_modules', 2, 3)\n",
      "select_association('rack_frames', 4, 3)\n",
      "select_association('frame_modules', 3, 4)\n",
      "select_association('element_modules', 3, 4)\n",
      "select_association('rack_frames', 5, 3)\n",
      "select_association('frame_modules', 3, 5)\n",
      "select_association('element_modules', 3, 5)\n",
      "select_association('frame_modules', 6, 3)\n",
      "select_association('rack_frames', 3, 6)\n",
      "select_association('frame_modules', 7, 3)\n",
      "select_association('rack_frames', 3, 7)\n",
      "\u001b[95m----------Options for object 4----------\u001b[0m\n",
      "\n",
      "select_object_class(4, 'frame')\n",
      "select_object_class(4, 'moduleI')\n",
      "select_object_class(4, 'moduleII')\n",
      "select_object_class(4, 'moduleIII')\n",
      "select_object_class(4, 'moduleIV')\n",
      "select_object_class(4, 'moduleV')\n",
      "select_object_class(4, 'elementA')\n",
      "select_object_class(4, 'elementB')\n",
      "select_object_class(4, 'elementC')\n",
      "select_object_class(4, 'elementD')\n",
      "select_object_class(4, 'rackSingle')\n",
      "select_object_class(4, 'rackDouble')\n",
      "select_value(4, 'frame_position', 1)\n",
      "select_value(4, 'frame_position', 2)\n",
      "select_value(4, 'frame_position', 3)\n",
      "select_value(4, 'frame_position', 4)\n",
      "select_value(4, 'frame_position', 5)\n",
      "select_value(4, 'frame_position', 6)\n",
      "select_value(4, 'frame_position', 7)\n",
      "select_value(4, 'frame_position', 8)\n",
      "select_association('rack_frames', 4, 1)\n",
      "select_association('rack_frames', 4, 2)\n",
      "select_association('rack_frames', 4, 3)\n",
      "select_association('frame_modules', 1, 4)\n",
      "select_association('frame_modules', 2, 4)\n",
      "select_association('frame_modules', 3, 4)\n",
      "select_association('element_modules', 1, 4)\n",
      "select_association('element_modules', 2, 4)\n",
      "select_association('element_modules', 3, 4)\n",
      "select_association('rack_frames', 5, 4)\n",
      "select_association('frame_modules', 4, 5)\n",
      "select_association('element_modules', 4, 5)\n",
      "select_association('frame_modules', 6, 4)\n",
      "select_association('rack_frames', 4, 6)\n",
      "select_association('frame_modules', 7, 4)\n",
      "select_association('rack_frames', 4, 7)\n",
      "\u001b[95m----------Options for object 5----------\u001b[0m\n",
      "\n",
      "select_object_class(5, 'frame')\n",
      "select_object_class(5, 'moduleI')\n",
      "select_object_class(5, 'moduleII')\n",
      "select_object_class(5, 'moduleIII')\n",
      "select_object_class(5, 'moduleIV')\n",
      "select_object_class(5, 'moduleV')\n",
      "select_object_class(5, 'elementA')\n",
      "select_object_class(5, 'elementB')\n",
      "select_object_class(5, 'elementC')\n",
      "select_object_class(5, 'elementD')\n",
      "select_object_class(5, 'rackSingle')\n",
      "select_object_class(5, 'rackDouble')\n",
      "select_value(5, 'frame_position', 1)\n",
      "select_value(5, 'frame_position', 2)\n",
      "select_value(5, 'frame_position', 3)\n",
      "select_value(5, 'frame_position', 4)\n",
      "select_value(5, 'frame_position', 5)\n",
      "select_value(5, 'frame_position', 6)\n",
      "select_value(5, 'frame_position', 7)\n",
      "select_value(5, 'frame_position', 8)\n",
      "select_association('rack_frames', 5, 1)\n",
      "select_association('rack_frames', 5, 2)\n",
      "select_association('rack_frames', 5, 3)\n",
      "select_association('rack_frames', 5, 4)\n",
      "select_association('frame_modules', 1, 5)\n",
      "select_association('frame_modules', 2, 5)\n",
      "select_association('frame_modules', 3, 5)\n",
      "select_association('frame_modules', 4, 5)\n",
      "select_association('element_modules', 1, 5)\n",
      "select_association('element_modules', 2, 5)\n",
      "select_association('element_modules', 3, 5)\n",
      "select_association('element_modules', 4, 5)\n",
      "select_association('frame_modules', 6, 5)\n",
      "select_association('rack_frames', 5, 6)\n",
      "select_association('frame_modules', 7, 5)\n",
      "select_association('rack_frames', 5, 7)\n",
      "\u001b[95m----------Options for object 6----------\u001b[0m\n",
      "\n",
      "remove_leaf_class(6)\n",
      "select_value(6, 'frame_position', 1)\n",
      "select_value(6, 'frame_position', 2)\n",
      "select_value(6, 'frame_position', 3)\n",
      "select_value(6, 'frame_position', 4)\n",
      "select_value(6, 'frame_position', 5)\n",
      "select_value(6, 'frame_position', 6)\n",
      "select_value(6, 'frame_position', 7)\n",
      "select_value(6, 'frame_position', 8)\n",
      "select_association('frame_modules', 6, 1)\n",
      "select_association('frame_modules', 6, 2)\n",
      "select_association('frame_modules', 6, 3)\n",
      "select_association('frame_modules', 6, 4)\n",
      "select_association('frame_modules', 6, 5)\n",
      "select_association('rack_frames', 1, 6)\n",
      "select_association('rack_frames', 2, 6)\n",
      "select_association('rack_frames', 3, 6)\n",
      "select_association('rack_frames', 4, 6)\n",
      "select_association('rack_frames', 5, 6)\n",
      "\u001b[95m----------Options for object 7----------\u001b[0m\n",
      "\n",
      "remove_leaf_class(7)\n",
      "select_value(7, 'frame_position', 1)\n",
      "select_value(7, 'frame_position', 2)\n",
      "select_value(7, 'frame_position', 3)\n",
      "select_value(7, 'frame_position', 4)\n",
      "select_value(7, 'frame_position', 5)\n",
      "select_value(7, 'frame_position', 6)\n",
      "select_value(7, 'frame_position', 7)\n",
      "select_value(7, 'frame_position', 8)\n",
      "select_association('frame_modules', 7, 1)\n",
      "select_association('frame_modules', 7, 2)\n",
      "select_association('frame_modules', 7, 3)\n",
      "select_association('frame_modules', 7, 4)\n",
      "select_association('frame_modules', 7, 5)\n",
      "select_association('rack_frames', 1, 7)\n",
      "select_association('rack_frames', 2, 7)\n",
      "select_association('rack_frames', 3, 7)\n",
      "select_association('rack_frames', 4, 7)\n",
      "select_association('rack_frames', 5, 7)\n"
     ]
    }
   ],
   "source": [
    "iconf.show_options()"
   ]
  },
  {
   "cell_type": "markdown",
   "id": "2bba180c-6924-4b2e-84de-f2c7e5d15784",
   "metadata": {},
   "source": [
    "------\n",
    "## Searching for solutions\n",
    "------"
   ]
  },
  {
   "cell_type": "markdown",
   "id": "1f68382d-3f01-4acc-b454-9b95b14a3f79",
   "metadata": {
    "tags": []
   },
   "source": [
    "### Browse solutions"
   ]
  },
  {
   "cell_type": "code",
   "execution_count": 30,
   "id": "f0378ca5-befb-49c7-8374-e8a19d92f89a",
   "metadata": {
    "tags": []
   },
   "outputs": [
    {
     "data": {
      "image/png": "[encoded data removed]",
      "text/plain": [
       "<IPython.core.display.Image object>"
      ]
     },
     "execution_count": 30,
     "metadata": {},
     "output_type": "execute_result"
    }
   ],
   "source": [
    "iconf.next_solution()\n",
    "iconf.view_found()"
   ]
  },
  {
   "cell_type": "markdown",
   "id": "b166d423-618b-4aea-ba98-e1f2a15197e8",
   "metadata": {},
   "source": [
    "### Extend incrementally"
   ]
  },
  {
   "cell_type": "code",
   "execution_count": 29,
   "id": "6f998931-a8ca-445c-8424-4eeaf8ac50cd",
   "metadata": {
    "tags": []
   },
   "outputs": [
    {
     "data": {
      "image/png": "[encoded data removed]",
      "text/plain": [
       "<IPython.core.display.Image object>"
      ]
     },
     "execution_count": 29,
     "metadata": {},
     "output_type": "execute_result"
    }
   ],
   "source": [
    "iconf.extend_incrementally()\n",
    "iconf.view_found()"
   ]
  },
  {
   "cell_type": "markdown",
   "id": "87c4da05-5025-4e67-bbc3-cd48c0b9bd0c",
   "metadata": {},
   "source": [
    "### Select found configuration"
   ]
  },
  {
   "cell_type": "code",
   "execution_count": 13,
   "id": "45636e56-893f-4b5a-817d-0e99bb177500",
   "metadata": {
    "tags": []
   },
   "outputs": [],
   "source": [
    "iconf.select_found_configuration()"
   ]
  },
  {
   "cell_type": "markdown",
   "id": "5e24dba5-55ec-4f7f-a2be-3a136ab7e197",
   "metadata": {
    "tags": []
   },
   "source": [
    "### Show options for current configuration"
   ]
  },
  {
   "cell_type": "code",
   "execution_count": 15,
   "id": "94b21cf8-1272-4322-8a28-00dd876f5968",
   "metadata": {
    "tags": []
   },
   "outputs": [
    {
     "name": "stdout",
     "output_type": "stream",
     "text": [
      "\n",
      "\u001b[95m----------Options for object 1----------\u001b[0m\n",
      "\n",
      "remove_leaf_class(1)\n",
      "remove_value(1, 'frame_position')\n",
      "remove_association('rack_frames', 5, 1)\n",
      "select_association('frame_modules', 1, 2)\n",
      "\u001b[95m----------Options for object 2----------\u001b[0m\n",
      "\n",
      "select_object_class(2, 'frame')\n",
      "select_object_class(2, 'moduleI')\n",
      "select_object_class(2, 'moduleII')\n",
      "select_object_class(2, 'moduleIII')\n",
      "select_object_class(2, 'moduleIV')\n",
      "select_object_class(2, 'moduleV')\n",
      "select_object_class(2, 'elementA')\n",
      "select_object_class(2, 'elementB')\n",
      "select_object_class(2, 'elementC')\n",
      "select_object_class(2, 'elementD')\n",
      "select_object_class(2, 'rackSingle')\n",
      "select_object_class(2, 'rackDouble')\n",
      "select_value(2, 'frame_position', 1)\n",
      "select_value(2, 'frame_position', 2)\n",
      "select_value(2, 'frame_position', 3)\n",
      "select_value(2, 'frame_position', 4)\n",
      "select_association('frame_modules', 1, 2)\n",
      "select_association('frame_modules', 3, 2)\n",
      "select_association('frame_modules', 4, 2)\n",
      "select_association('frame_modules', 6, 2)\n",
      "\u001b[95m----------Options for object 3----------\u001b[0m\n",
      "\n",
      "remove_leaf_class(3)\n",
      "remove_value(3, 'frame_position')\n",
      "remove_association('rack_frames', 5, 3)\n",
      "select_association('frame_modules', 3, 2)\n",
      "\u001b[95m----------Options for object 4----------\u001b[0m\n",
      "\n",
      "remove_leaf_class(4)\n",
      "remove_value(4, 'frame_position')\n",
      "remove_association('rack_frames', 5, 4)\n",
      "select_association('frame_modules', 4, 2)\n",
      "\u001b[95m----------Options for object 5----------\u001b[0m\n",
      "\n",
      "remove_leaf_class(5)\n",
      "remove_association('rack_frames', 5, 1)\n",
      "remove_association('rack_frames', 5, 3)\n",
      "remove_association('rack_frames', 5, 4)\n",
      "remove_association('rack_frames', 5, 6)\n",
      "\u001b[95m----------Options for object 6----------\u001b[0m\n",
      "\n",
      "remove_leaf_class(6)\n",
      "remove_value(6, 'frame_position')\n",
      "remove_association('rack_frames', 5, 6)\n",
      "select_association('frame_modules', 6, 2)\n"
     ]
    }
   ],
   "source": [
    "# TODO: fix this\n",
    "iconf.show_options()"
   ]
  },
  {
   "cell_type": "markdown",
   "id": "0ebfd341-ecfc-4a69-8971-5e0bdccd3121",
   "metadata": {},
   "source": [
    "------\n",
    "## Modifing current (partial) configuration\n",
    "------"
   ]
  },
  {
   "cell_type": "markdown",
   "id": "e5af18df-6ec9-44d7-a5a3-b36bec331cef",
   "metadata": {},
   "source": [
    "### Select leaf class"
   ]
  },
  {
   "cell_type": "code",
   "execution_count": 14,
   "id": "6909b914-1057-4aab-8fe3-99bc578c5600",
   "metadata": {
    "tags": []
   },
   "outputs": [],
   "source": [
    "iconf.select_object_class(1,'rackDouble')"
   ]
  },
  {
   "cell_type": "markdown",
   "id": "54c3d57b-4073-4949-a80d-9f03a5476a62",
   "metadata": {},
   "source": [
    "### Select a value"
   ]
  },
  {
   "cell_type": "code",
   "execution_count": 15,
   "id": "69d2c683-d0f1-4a2c-89c9-29168c4004e9",
   "metadata": {
    "tags": []
   },
   "outputs": [],
   "source": [
    "iconf.select_value(1,'frame_position',1)"
   ]
  },
  {
   "cell_type": "markdown",
   "id": "6e54dba8-28c3-4c6e-b853-8fa7e3969e10",
   "metadata": {},
   "source": [
    "### Select Association"
   ]
  },
  {
   "cell_type": "code",
   "execution_count": 16,
   "id": "0506cba1-9af4-4b4f-9920-315d549ecc5a",
   "metadata": {
    "tags": []
   },
   "outputs": [],
   "source": [
    "iconf.select_association('rack_frames',1,5)"
   ]
  },
  {
   "cell_type": "markdown",
   "id": "0b2cc929-ad73-4452-8920-b7b42751803f",
   "metadata": {},
   "source": [
    "### Remove leaf class"
   ]
  },
  {
   "cell_type": "code",
   "execution_count": 17,
   "id": "d79fa48e-1b9f-4f6a-b74b-f717fe71b2fb",
   "metadata": {
    "tags": []
   },
   "outputs": [],
   "source": [
    "iconf.remove_leaf_class(1)"
   ]
  },
  {
   "cell_type": "markdown",
   "id": "a99e70ee-80e5-4fd6-b25d-7f9f16e2ccad",
   "metadata": {},
   "source": [
    "### Remove value"
   ]
  },
  {
   "cell_type": "code",
   "execution_count": 18,
   "id": "cb18f6f6-021f-414e-8468-6e8eac7e1fa6",
   "metadata": {
    "tags": []
   },
   "outputs": [],
   "source": [
    "iconf.remove_value(4,'frame_position')"
   ]
  },
  {
   "cell_type": "markdown",
   "id": "832d0caa-8ca2-4ef6-8dbc-00a953d5b1c1",
   "metadata": {},
   "source": [
    "### Remove association"
   ]
  },
  {
   "cell_type": "code",
   "execution_count": 19,
   "id": "5fde9f3c-90a3-4309-bfb1-f846b096a574",
   "metadata": {
    "tags": []
   },
   "outputs": [],
   "source": [
    "iconf.remove_association('rack_fames',1,2)"
   ]
  },
  {
   "cell_type": "code",
   "execution_count": null,
   "id": "b7d65a2a",
   "metadata": {},
   "outputs": [],
   "source": []
  }
 ],
 "metadata": {
  "kernelspec": {
   "display_name": "Python 3 (ipykernel)",
   "language": "python",
   "name": "python3"
  },
  "language_info": {
   "codemirror_mode": {
    "name": "ipython",
    "version": 3
   },
   "file_extension": ".py",
   "mimetype": "text/x-python",
   "name": "python",
   "nbconvert_exporter": "python",
   "pygments_lexer": "ipython3",
   "version": "3.9.16"
  },
  "vscode": {
   "interpreter": {
    "hash": "3335a44cbf2b74f58680e2551700befa5bcda97c93e395440ba937aba7deda85"
   }
  }
 },
 "nbformat": 4,
 "nbformat_minor": 5
}
