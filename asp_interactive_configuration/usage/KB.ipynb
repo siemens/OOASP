{
 "cells": [
  {
   "cell_type": "markdown",
   "id": "920b3138-bb1e-4792-a306-175fd47a7c63",
   "metadata": {},
   "source": [
    "# Load and render Knowledge Bases\n",
    "Copyright (c) 2022 Siemens AG Oesterreich\n",
    "SPDX-License-Identifier: MIT\n",
    "\n",
    "\n",
    "- How to load a knowledge base from a list of facts with the clorm integration.\n",
    "- How to render a knowledge based with the clingraph integration"
   ]
  },
  {
   "cell_type": "code",
   "execution_count": 1,
   "id": "e964b3d8-2994-4d9d-8b10-a809a262266c",
   "metadata": {},
   "outputs": [
    {
     "name": "stdout",
     "output_type": "stream",
     "text": [
      "/Users/susana/Education/Phd/ExternalProyects/OOASP/asp_interactive_configuration\n"
     ]
    }
   ],
   "source": [
    "%cd .."
   ]
  },
  {
   "cell_type": "markdown",
   "id": "46c83134-2ead-4f47-8f93-b6b962f689c3",
   "metadata": {},
   "source": [
    "### Knowledge Base\n",
    "\n",
    "Import the `OOASPKnowledgeBase` classs"
   ]
  },
  {
   "cell_type": "code",
   "execution_count": 2,
   "id": "250072bb-f5b1-46a5-b1bd-60e2e4d0f527",
   "metadata": {},
   "outputs": [],
   "source": [
    "from ooasp.kb import OOASPKnowledgeBase"
   ]
  },
  {
   "cell_type": "markdown",
   "id": "08285908-c554-49b2-9a9f-e02f006e1bad",
   "metadata": {},
   "source": [
    "Create an `OOASPKnowledgeBase` from a logic program"
   ]
  },
  {
   "cell_type": "markdown",
   "id": "49d97d2d-89b3-4c3e-9ac2-6d115f2867ff",
   "metadata": {},
   "source": [
    "#### Racks example"
   ]
  },
  {
   "cell_type": "code",
   "execution_count": 3,
   "id": "1d1e2028-644f-4769-bcb4-0d450c22242e",
   "metadata": {},
   "outputs": [],
   "source": [
    "racks_kb = OOASPKnowledgeBase.from_file(\"racks_v1\",\"./examples/racks/kb.lp\")"
   ]
  },
  {
   "cell_type": "markdown",
   "id": "d36b8e32-a445-4381-a8ea-e54e890abb13",
   "metadata": {},
   "source": [
    "Print the object (This uses the asp string representation of the factbase)"
   ]
  },
  {
   "cell_type": "code",
   "execution_count": 4,
   "id": "51882435-b617-4e54-9d69-ec21f8f1f02c",
   "metadata": {},
   "outputs": [
    {
     "name": "stdout",
     "output_type": "stream",
     "text": [
      "%---- OOASPKnowledgeBase (racks_v1) ------\n",
      "ooasp_assoc(racks_v1,rack_frames,rack,1,1,frame,4,8).\n",
      "ooasp_assoc(racks_v1,frame_modules,frame,1,1,module,0,5).\n",
      "ooasp_assoc(racks_v1,element_modules,element,0,1,module,1,4).\n",
      "ooasp_attribute(racks_v1,frame,frame_position,int).\n",
      "ooasp_attribute_maxInclusive(racks_v1,frame,frame_position,8).\n",
      "ooasp_attribute_minInclusive(racks_v1,frame,frame_position,1).\n",
      "ooasp_class(racks_v1,object).\n",
      "ooasp_class(racks_v1,rack).\n",
      "ooasp_class(racks_v1,rackSingle).\n",
      "ooasp_class(racks_v1,rackDouble).\n",
      "ooasp_class(racks_v1,frame).\n",
      "ooasp_class(racks_v1,element).\n",
      "ooasp_class(racks_v1,elementA).\n",
      "ooasp_class(racks_v1,elementB).\n",
      "ooasp_class(racks_v1,elementC).\n",
      "ooasp_class(racks_v1,elementD).\n",
      "ooasp_class(racks_v1,module).\n",
      "ooasp_class(racks_v1,moduleI).\n",
      "ooasp_class(racks_v1,moduleII).\n",
      "ooasp_class(racks_v1,moduleIII).\n",
      "ooasp_class(racks_v1,moduleIV).\n",
      "ooasp_class(racks_v1,moduleV).\n",
      "ooasp_kb(racks_v1).\n",
      "ooasp_subclass(racks_v1,rack,object).\n",
      "ooasp_subclass(racks_v1,rackSingle,rack).\n",
      "ooasp_subclass(racks_v1,rackDouble,rack).\n",
      "ooasp_subclass(racks_v1,frame,object).\n",
      "ooasp_subclass(racks_v1,element,object).\n",
      "ooasp_subclass(racks_v1,elementA,element).\n",
      "ooasp_subclass(racks_v1,elementB,element).\n",
      "ooasp_subclass(racks_v1,elementC,element).\n",
      "ooasp_subclass(racks_v1,elementD,element).\n",
      "ooasp_subclass(racks_v1,module,object).\n",
      "ooasp_subclass(racks_v1,moduleI,module).\n",
      "ooasp_subclass(racks_v1,moduleII,module).\n",
      "ooasp_subclass(racks_v1,moduleIII,module).\n",
      "ooasp_subclass(racks_v1,moduleIV,module).\n",
      "ooasp_subclass(racks_v1,moduleV,module).\n",
      "\n"
     ]
    }
   ],
   "source": [
    "print(racks_kb)"
   ]
  },
  {
   "cell_type": "code",
   "execution_count": 5,
   "id": "71ed36f2-6f15-4672-b1f1-a646732106d6",
   "metadata": {},
   "outputs": [
    {
     "name": "stderr",
     "output_type": "stream",
     "text": [
      "Error: syntax error in line 1 \n",
      "... <B></B> ...\n",
      "in label of node moduleI\n",
      "Error: syntax error in line 1 \n",
      "... <B></B> ...\n",
      "in label of node rackSingle\n",
      "Error: syntax error in line 1 \n",
      "... <B></B> ...\n",
      "in label of node rack\n",
      "Error: syntax error in line 1 \n",
      "... <B></B> ...\n",
      "in label of node elementA\n",
      "Error: syntax error in line 1 \n",
      "... <B></B> ...\n",
      "in label of node moduleII\n",
      "Error: syntax error in line 1 \n",
      "... <B></B> ...\n",
      "in label of node element\n",
      "Error: syntax error in line 1 \n",
      "... <B></B> ...\n",
      "in label of node elementB\n",
      "Error: syntax error in line 1 \n",
      "... <B></B> ...\n",
      "in label of node frame\n",
      "Error: syntax error in line 1 \n",
      "... <B></B> ...\n",
      "in label of node moduleIII\n",
      "Error: syntax error in line 1 \n",
      "... <B></B> ...\n",
      "in label of node object\n",
      "Error: syntax error in line 1 \n",
      "... <B></B> ...\n",
      "in label of node moduleIV\n",
      "Error: syntax error in line 1 \n",
      "... <B></B> ...\n",
      "in label of node rackDouble\n",
      "Error: syntax error in line 1 \n",
      "... <B></B> ...\n",
      "in label of node module\n",
      "Error: syntax error in line 1 \n",
      "... <B></B> ...\n",
      "in label of node moduleV\n",
      "Error: syntax error in line 1 \n",
      "... <B></B> ...\n",
      "in label of node elementD\n",
      "Error: syntax error in line 1 \n",
      "... <B></B> ...\n",
      "in label of node elementC\n"
     ]
    },
    {
     "ename": "CalledProcessError",
     "evalue": "Command '[PosixPath('dot'), '-Kdot', '-Tpng', '-O', 'racks_v1']' returned non-zero exit status 1. [stderr: b'Error: syntax error in line 1 \\n... <B></B> ...\\nin label of node moduleI\\nError: syntax error in line 1 \\n... <B></B> ...\\nin label of node rackSingle\\nError: syntax error in line 1 \\n... <B></B> ...\\nin label of node rack\\nError: syntax error in line 1 \\n... <B></B> ...\\nin label of node elementA\\nError: syntax error in line 1 \\n... <B></B> ...\\nin label of node moduleII\\nError: syntax error in line 1 \\n... <B></B> ...\\nin label of node element\\nError: syntax error in line 1 \\n... <B></B> ...\\nin label of node elementB\\nError: syntax error in line 1 \\n... <B></B> ...\\nin label of node frame\\nError: syntax error in line 1 \\n... <B></B> ...\\nin label of node moduleIII\\nError: syntax error in line 1 \\n... <B></B> ...\\nin label of node object\\nError: syntax error in line 1 \\n... <B></B> ...\\nin label of node moduleIV\\nError: syntax error in line 1 \\n... <B></B> ...\\nin label of node rackDouble\\nError: syntax error in line 1 \\n... <B></B> ...\\nin label of node module\\nError: syntax error in line 1 \\n... <B></B> ...\\nin label of node moduleV\\nError: syntax error in line 1 \\n... <B></B> ...\\nin label of node elementD\\nError: syntax error in line 1 \\n... <B></B> ...\\nin label of node elementC\\n']",
     "output_type": "error",
     "traceback": [
      "\u001b[0;31m---------------------------------------------------------------------------\u001b[0m",
      "\u001b[0;31mCalledProcessError\u001b[0m                        Traceback (most recent call last)",
      "File \u001b[0;32m~/opt/anaconda3/envs/ooasp/lib/python3.9/site-packages/graphviz/backend/execute.py:91\u001b[0m, in \u001b[0;36mrun_check\u001b[0;34m(cmd, input_lines, encoding, quiet, **kwargs)\u001b[0m\n\u001b[1;32m     90\u001b[0m \u001b[38;5;28;01mtry\u001b[39;00m:\n\u001b[0;32m---> 91\u001b[0m     \u001b[43mproc\u001b[49m\u001b[38;5;241;43m.\u001b[39;49m\u001b[43mcheck_returncode\u001b[49m\u001b[43m(\u001b[49m\u001b[43m)\u001b[49m\n\u001b[1;32m     92\u001b[0m \u001b[38;5;28;01mexcept\u001b[39;00m subprocess\u001b[38;5;241m.\u001b[39mCalledProcessError \u001b[38;5;28;01mas\u001b[39;00m e:\n",
      "File \u001b[0;32m~/opt/anaconda3/envs/ooasp/lib/python3.9/subprocess.py:460\u001b[0m, in \u001b[0;36mCompletedProcess.check_returncode\u001b[0;34m(self)\u001b[0m\n\u001b[1;32m    459\u001b[0m \u001b[38;5;28;01mif\u001b[39;00m \u001b[38;5;28mself\u001b[39m\u001b[38;5;241m.\u001b[39mreturncode:\n\u001b[0;32m--> 460\u001b[0m     \u001b[38;5;28;01mraise\u001b[39;00m CalledProcessError(\u001b[38;5;28mself\u001b[39m\u001b[38;5;241m.\u001b[39mreturncode, \u001b[38;5;28mself\u001b[39m\u001b[38;5;241m.\u001b[39margs, \u001b[38;5;28mself\u001b[39m\u001b[38;5;241m.\u001b[39mstdout,\n\u001b[1;32m    461\u001b[0m                              \u001b[38;5;28mself\u001b[39m\u001b[38;5;241m.\u001b[39mstderr)\n",
      "\u001b[0;31mCalledProcessError\u001b[0m: Command '[PosixPath('dot'), '-Kdot', '-Tpng', '-O', 'racks_v1']' returned non-zero exit status 1.",
      "\nDuring handling of the above exception, another exception occurred:\n",
      "\u001b[0;31mCalledProcessError\u001b[0m                        Traceback (most recent call last)",
      "Cell \u001b[0;32mIn[5], line 1\u001b[0m\n\u001b[0;32m----> 1\u001b[0m \u001b[43mracks_kb\u001b[49m\u001b[38;5;241;43m.\u001b[39;49m\u001b[43msave_png\u001b[49m\u001b[43m(\u001b[49m\u001b[38;5;124;43m\"\u001b[39;49m\u001b[38;5;124;43mexamples/racks\u001b[39;49m\u001b[38;5;124;43m\"\u001b[39;49m\u001b[43m)\u001b[49m\n",
      "File \u001b[0;32m~/Education/Phd/ExternalProyects/OOASP/asp_interactive_configuration/ooasp/kb.py:183\u001b[0m, in \u001b[0;36mOOASPKnowledgeBase.save_png\u001b[0;34m(self, directory)\u001b[0m\n\u001b[1;32m    181\u001b[0m ctl\u001b[38;5;241m.\u001b[39msolve(on_model\u001b[38;5;241m=\u001b[39m\u001b[38;5;28;01mlambda\u001b[39;00m m: fbs\u001b[38;5;241m.\u001b[39mappend(Factbase\u001b[38;5;241m.\u001b[39mfrom_model(m,default_graph\u001b[38;5;241m=\u001b[39m\u001b[38;5;124m\"\u001b[39m\u001b[38;5;124mkb\u001b[39m\u001b[38;5;124m\"\u001b[39m)))\n\u001b[1;32m    182\u001b[0m graphs \u001b[38;5;241m=\u001b[39m compute_graphs(fbs[\u001b[38;5;241m0\u001b[39m])\n\u001b[0;32m--> 183\u001b[0m \u001b[43mrender\u001b[49m\u001b[43m(\u001b[49m\u001b[43mgraphs\u001b[49m\u001b[43m,\u001b[49m\u001b[38;5;28;43mformat\u001b[39;49m\u001b[38;5;241;43m=\u001b[39;49m\u001b[38;5;124;43m\"\u001b[39;49m\u001b[38;5;124;43mpng\u001b[39;49m\u001b[38;5;124;43m\"\u001b[39;49m\u001b[43m,\u001b[49m\u001b[43mname_format\u001b[49m\u001b[38;5;241;43m=\u001b[39;49m\u001b[38;5;28;43mself\u001b[39;49m\u001b[38;5;241;43m.\u001b[39;49m\u001b[43mname\u001b[49m\u001b[43m,\u001b[49m\u001b[43mdirectory\u001b[49m\u001b[38;5;241;43m=\u001b[39;49m\u001b[43mdirectory\u001b[49m\u001b[43m)\u001b[49m\n",
      "File \u001b[0;32m~/opt/anaconda3/envs/ooasp/lib/python3.9/site-packages/clingraph/graphviz.py:165\u001b[0m, in \u001b[0;36mrender\u001b[0;34m(graphs, directory, format, name_format, engine, view)\u001b[0m\n\u001b[1;32m    148\u001b[0m \u001b[38;5;250m\u001b[39m\u001b[38;5;124;03m\"\"\"\u001b[39;00m\n\u001b[1;32m    149\u001b[0m \u001b[38;5;124;03mRender the given graphviz graphs that where computed using :func:`compute_graphs`.\u001b[39;00m\n\u001b[1;32m    150\u001b[0m \n\u001b[0;32m   (...)\u001b[0m\n\u001b[1;32m    162\u001b[0m \u001b[38;5;124;03m            Or a list of such dictionaries, each element corresponding to a model.\u001b[39;00m\n\u001b[1;32m    163\u001b[0m \u001b[38;5;124;03m\"\"\"\u001b[39;00m\n\u001b[1;32m    164\u001b[0m \u001b[38;5;66;03m#pylint: disable=redefined-builtin\u001b[39;00m\n\u001b[0;32m--> 165\u001b[0m \u001b[38;5;28;01mreturn\u001b[39;00m \u001b[43mapply\u001b[49m\u001b[43m(\u001b[49m\u001b[43mgraphs\u001b[49m\u001b[43m,\u001b[49m\u001b[43m \u001b[49m\u001b[43m_render_single_graph\u001b[49m\u001b[43m,\u001b[49m\n\u001b[1;32m    166\u001b[0m \u001b[43m        \u001b[49m\u001b[43mdirectory\u001b[49m\u001b[38;5;241;43m=\u001b[39;49m\u001b[43mdirectory\u001b[49m\u001b[43m,\u001b[49m\n\u001b[1;32m    167\u001b[0m \u001b[43m        \u001b[49m\u001b[38;5;28;43mformat\u001b[39;49m\u001b[38;5;241;43m=\u001b[39;49m\u001b[38;5;28;43mformat\u001b[39;49m\u001b[43m,\u001b[49m\n\u001b[1;32m    168\u001b[0m \u001b[43m        \u001b[49m\u001b[43mname_format\u001b[49m\u001b[38;5;241;43m=\u001b[39;49m\u001b[43mname_format\u001b[49m\u001b[43m,\u001b[49m\n\u001b[1;32m    169\u001b[0m \u001b[43m        \u001b[49m\u001b[43mengine\u001b[49m\u001b[38;5;241;43m=\u001b[39;49m\u001b[43mengine\u001b[49m\u001b[43m,\u001b[49m\n\u001b[1;32m    170\u001b[0m \u001b[43m        \u001b[49m\u001b[43mview\u001b[49m\u001b[38;5;241;43m=\u001b[39;49m\u001b[43mview\u001b[49m\u001b[43m)\u001b[49m\n",
      "File \u001b[0;32m~/opt/anaconda3/envs/ooasp/lib/python3.9/site-packages/clingraph/utils.py:46\u001b[0m, in \u001b[0;36mapply\u001b[0;34m(elements, function, **kwargs)\u001b[0m\n\u001b[1;32m     44\u001b[0m         \u001b[38;5;28;01mif\u001b[39;00m name_format:\n\u001b[1;32m     45\u001b[0m             kwargs[\u001b[38;5;124m\"\u001b[39m\u001b[38;5;124mname_format\u001b[39m\u001b[38;5;124m\"\u001b[39m]\u001b[38;5;241m=\u001b[39mname_format\u001b[38;5;241m.\u001b[39mreplace(\u001b[38;5;124m'\u001b[39m\u001b[38;5;132;01m{graph_name}\u001b[39;00m\u001b[38;5;124m'\u001b[39m, graph_name)\u001b[38;5;241m.\u001b[39mreplace(\u001b[38;5;124m'\u001b[39m\u001b[38;5;132;01m{model_number}\u001b[39;00m\u001b[38;5;124m'\u001b[39m,\u001b[38;5;28mstr\u001b[39m(i))\n\u001b[0;32m---> 46\u001b[0m         element_result[graph_name]\u001b[38;5;241m=\u001b[39m \u001b[43mfunction\u001b[49m\u001b[43m(\u001b[49m\u001b[43me\u001b[49m\u001b[43m,\u001b[49m\u001b[43m \u001b[49m\u001b[38;5;241;43m*\u001b[39;49m\u001b[38;5;241;43m*\u001b[39;49m\u001b[43mkwargs\u001b[49m\u001b[43m)\u001b[49m\n\u001b[1;32m     47\u001b[0m     result\u001b[38;5;241m.\u001b[39mappend(element_result)\n\u001b[1;32m     49\u001b[0m \u001b[38;5;28;01mif\u001b[39;00m \u001b[38;5;129;01mnot\u001b[39;00m is_multi_model:\n",
      "File \u001b[0;32m~/opt/anaconda3/envs/ooasp/lib/python3.9/site-packages/clingraph/graphviz.py:138\u001b[0m, in \u001b[0;36m_render_single_graph\u001b[0;34m(graph, directory, format, engine, view, name_format)\u001b[0m\n\u001b[1;32m    135\u001b[0m file_path \u001b[38;5;241m=\u001b[39m os\u001b[38;5;241m.\u001b[39mpath\u001b[38;5;241m.\u001b[39mjoin(\n\u001b[1;32m    136\u001b[0m     directory, \u001b[38;5;124mf\u001b[39m\u001b[38;5;124m\"\u001b[39m\u001b[38;5;132;01m{\u001b[39;00mfile_name\u001b[38;5;132;01m}\u001b[39;00m\u001b[38;5;124m.\u001b[39m\u001b[38;5;132;01m{\u001b[39;00m\u001b[38;5;28mformat\u001b[39m\u001b[38;5;132;01m}\u001b[39;00m\u001b[38;5;124m\"\u001b[39m)\n\u001b[1;32m    137\u001b[0m graph\u001b[38;5;241m.\u001b[39mengine \u001b[38;5;241m=\u001b[39m engine\n\u001b[0;32m--> 138\u001b[0m \u001b[43mgraph\u001b[49m\u001b[38;5;241;43m.\u001b[39;49m\u001b[43mrender\u001b[49m\u001b[43m(\u001b[49m\n\u001b[1;32m    139\u001b[0m \u001b[43m    \u001b[49m\u001b[38;5;28;43mformat\u001b[39;49m\u001b[38;5;241;43m=\u001b[39;49m\u001b[38;5;28;43mformat\u001b[39;49m\u001b[43m,\u001b[49m\n\u001b[1;32m    140\u001b[0m \u001b[43m    \u001b[49m\u001b[43mdirectory\u001b[49m\u001b[38;5;241;43m=\u001b[39;49m\u001b[43mdirectory\u001b[49m\u001b[43m,\u001b[49m\n\u001b[1;32m    141\u001b[0m \u001b[43m    \u001b[49m\u001b[43mfilename\u001b[49m\u001b[38;5;241;43m=\u001b[39;49m\u001b[43mfile_name\u001b[49m\u001b[43m,\u001b[49m\n\u001b[1;32m    142\u001b[0m \u001b[43m    \u001b[49m\u001b[38;5;66;43;03m# engine=engine,\u001b[39;49;00m\n\u001b[1;32m    143\u001b[0m \u001b[43m    \u001b[49m\u001b[43mview\u001b[49m\u001b[38;5;241;43m=\u001b[39;49m\u001b[43mview\u001b[49m\u001b[43m,\u001b[49m\n\u001b[1;32m    144\u001b[0m \u001b[43m    \u001b[49m\u001b[43mcleanup\u001b[49m\u001b[38;5;241;43m=\u001b[39;49m\u001b[38;5;28;43;01mTrue\u001b[39;49;00m\u001b[43m)\u001b[49m\n\u001b[1;32m    145\u001b[0m \u001b[38;5;28;01mreturn\u001b[39;00m file_path\n",
      "File \u001b[0;32m~/opt/anaconda3/envs/ooasp/lib/python3.9/site-packages/graphviz/_tools.py:171\u001b[0m, in \u001b[0;36mdeprecate_positional_args.<locals>.decorator.<locals>.wrapper\u001b[0;34m(*args, **kwargs)\u001b[0m\n\u001b[1;32m    162\u001b[0m     wanted \u001b[38;5;241m=\u001b[39m \u001b[38;5;124m'\u001b[39m\u001b[38;5;124m, \u001b[39m\u001b[38;5;124m'\u001b[39m\u001b[38;5;241m.\u001b[39mjoin(\u001b[38;5;124mf\u001b[39m\u001b[38;5;124m'\u001b[39m\u001b[38;5;132;01m{\u001b[39;00mname\u001b[38;5;132;01m}\u001b[39;00m\u001b[38;5;124m=\u001b[39m\u001b[38;5;132;01m{\u001b[39;00mvalue\u001b[38;5;132;01m!r}\u001b[39;00m\u001b[38;5;124m'\u001b[39m\n\u001b[1;32m    163\u001b[0m                        \u001b[38;5;28;01mfor\u001b[39;00m name, value \u001b[38;5;129;01min\u001b[39;00m deprecated\u001b[38;5;241m.\u001b[39mitems())\n\u001b[1;32m    164\u001b[0m     warnings\u001b[38;5;241m.\u001b[39mwarn(\u001b[38;5;124mf\u001b[39m\u001b[38;5;124m'\u001b[39m\u001b[38;5;124mThe signature of \u001b[39m\u001b[38;5;132;01m{\u001b[39;00mfunc\u001b[38;5;241m.\u001b[39m\u001b[38;5;18m__name__\u001b[39m\u001b[38;5;132;01m}\u001b[39;00m\u001b[38;5;124m will be reduced\u001b[39m\u001b[38;5;124m'\u001b[39m\n\u001b[1;32m    165\u001b[0m                   \u001b[38;5;124mf\u001b[39m\u001b[38;5;124m'\u001b[39m\u001b[38;5;124m to \u001b[39m\u001b[38;5;132;01m{\u001b[39;00msupported_number\u001b[38;5;132;01m}\u001b[39;00m\u001b[38;5;124m positional args\u001b[39m\u001b[38;5;124m'\u001b[39m\n\u001b[1;32m    166\u001b[0m                   \u001b[38;5;124mf\u001b[39m\u001b[38;5;124m'\u001b[39m\u001b[38;5;124m \u001b[39m\u001b[38;5;132;01m{\u001b[39;00m\u001b[38;5;28mlist\u001b[39m(supported)\u001b[38;5;132;01m}\u001b[39;00m\u001b[38;5;124m: pass \u001b[39m\u001b[38;5;132;01m{\u001b[39;00mwanted\u001b[38;5;132;01m}\u001b[39;00m\u001b[38;5;124m'\u001b[39m\n\u001b[1;32m    167\u001b[0m                   \u001b[38;5;124m'\u001b[39m\u001b[38;5;124m as keyword arg(s)\u001b[39m\u001b[38;5;124m'\u001b[39m,\n\u001b[1;32m    168\u001b[0m                   stacklevel\u001b[38;5;241m=\u001b[39mstacklevel,\n\u001b[1;32m    169\u001b[0m                   category\u001b[38;5;241m=\u001b[39mcategory)\n\u001b[0;32m--> 171\u001b[0m \u001b[38;5;28;01mreturn\u001b[39;00m \u001b[43mfunc\u001b[49m\u001b[43m(\u001b[49m\u001b[38;5;241;43m*\u001b[39;49m\u001b[43margs\u001b[49m\u001b[43m,\u001b[49m\u001b[43m \u001b[49m\u001b[38;5;241;43m*\u001b[39;49m\u001b[38;5;241;43m*\u001b[39;49m\u001b[43mkwargs\u001b[49m\u001b[43m)\u001b[49m\n",
      "File \u001b[0;32m~/opt/anaconda3/envs/ooasp/lib/python3.9/site-packages/graphviz/rendering.py:122\u001b[0m, in \u001b[0;36mRender.render\u001b[0;34m(self, filename, directory, view, cleanup, format, renderer, formatter, neato_no_op, quiet, quiet_view, outfile, engine, raise_if_result_exists, overwrite_source)\u001b[0m\n\u001b[1;32m    118\u001b[0m filepath \u001b[38;5;241m=\u001b[39m \u001b[38;5;28mself\u001b[39m\u001b[38;5;241m.\u001b[39msave(filename, directory\u001b[38;5;241m=\u001b[39mdirectory, skip_existing\u001b[38;5;241m=\u001b[39m\u001b[38;5;28;01mNone\u001b[39;00m)\n\u001b[1;32m    120\u001b[0m args\u001b[38;5;241m.\u001b[39mappend(filepath)\n\u001b[0;32m--> 122\u001b[0m rendered \u001b[38;5;241m=\u001b[39m \u001b[38;5;28;43mself\u001b[39;49m\u001b[38;5;241;43m.\u001b[39;49m\u001b[43m_render\u001b[49m\u001b[43m(\u001b[49m\u001b[38;5;241;43m*\u001b[39;49m\u001b[43margs\u001b[49m\u001b[43m,\u001b[49m\u001b[43m \u001b[49m\u001b[38;5;241;43m*\u001b[39;49m\u001b[38;5;241;43m*\u001b[39;49m\u001b[43mkwargs\u001b[49m\u001b[43m)\u001b[49m\n\u001b[1;32m    124\u001b[0m \u001b[38;5;28;01mif\u001b[39;00m cleanup:\n\u001b[1;32m    125\u001b[0m     log\u001b[38;5;241m.\u001b[39mdebug(\u001b[38;5;124m'\u001b[39m\u001b[38;5;124mdelete \u001b[39m\u001b[38;5;132;01m%r\u001b[39;00m\u001b[38;5;124m'\u001b[39m, filepath)\n",
      "File \u001b[0;32m~/opt/anaconda3/envs/ooasp/lib/python3.9/site-packages/graphviz/_tools.py:171\u001b[0m, in \u001b[0;36mdeprecate_positional_args.<locals>.decorator.<locals>.wrapper\u001b[0;34m(*args, **kwargs)\u001b[0m\n\u001b[1;32m    162\u001b[0m     wanted \u001b[38;5;241m=\u001b[39m \u001b[38;5;124m'\u001b[39m\u001b[38;5;124m, \u001b[39m\u001b[38;5;124m'\u001b[39m\u001b[38;5;241m.\u001b[39mjoin(\u001b[38;5;124mf\u001b[39m\u001b[38;5;124m'\u001b[39m\u001b[38;5;132;01m{\u001b[39;00mname\u001b[38;5;132;01m}\u001b[39;00m\u001b[38;5;124m=\u001b[39m\u001b[38;5;132;01m{\u001b[39;00mvalue\u001b[38;5;132;01m!r}\u001b[39;00m\u001b[38;5;124m'\u001b[39m\n\u001b[1;32m    163\u001b[0m                        \u001b[38;5;28;01mfor\u001b[39;00m name, value \u001b[38;5;129;01min\u001b[39;00m deprecated\u001b[38;5;241m.\u001b[39mitems())\n\u001b[1;32m    164\u001b[0m     warnings\u001b[38;5;241m.\u001b[39mwarn(\u001b[38;5;124mf\u001b[39m\u001b[38;5;124m'\u001b[39m\u001b[38;5;124mThe signature of \u001b[39m\u001b[38;5;132;01m{\u001b[39;00mfunc\u001b[38;5;241m.\u001b[39m\u001b[38;5;18m__name__\u001b[39m\u001b[38;5;132;01m}\u001b[39;00m\u001b[38;5;124m will be reduced\u001b[39m\u001b[38;5;124m'\u001b[39m\n\u001b[1;32m    165\u001b[0m                   \u001b[38;5;124mf\u001b[39m\u001b[38;5;124m'\u001b[39m\u001b[38;5;124m to \u001b[39m\u001b[38;5;132;01m{\u001b[39;00msupported_number\u001b[38;5;132;01m}\u001b[39;00m\u001b[38;5;124m positional args\u001b[39m\u001b[38;5;124m'\u001b[39m\n\u001b[1;32m    166\u001b[0m                   \u001b[38;5;124mf\u001b[39m\u001b[38;5;124m'\u001b[39m\u001b[38;5;124m \u001b[39m\u001b[38;5;132;01m{\u001b[39;00m\u001b[38;5;28mlist\u001b[39m(supported)\u001b[38;5;132;01m}\u001b[39;00m\u001b[38;5;124m: pass \u001b[39m\u001b[38;5;132;01m{\u001b[39;00mwanted\u001b[38;5;132;01m}\u001b[39;00m\u001b[38;5;124m'\u001b[39m\n\u001b[1;32m    167\u001b[0m                   \u001b[38;5;124m'\u001b[39m\u001b[38;5;124m as keyword arg(s)\u001b[39m\u001b[38;5;124m'\u001b[39m,\n\u001b[1;32m    168\u001b[0m                   stacklevel\u001b[38;5;241m=\u001b[39mstacklevel,\n\u001b[1;32m    169\u001b[0m                   category\u001b[38;5;241m=\u001b[39mcategory)\n\u001b[0;32m--> 171\u001b[0m \u001b[38;5;28;01mreturn\u001b[39;00m \u001b[43mfunc\u001b[49m\u001b[43m(\u001b[49m\u001b[38;5;241;43m*\u001b[39;49m\u001b[43margs\u001b[49m\u001b[43m,\u001b[49m\u001b[43m \u001b[49m\u001b[38;5;241;43m*\u001b[39;49m\u001b[38;5;241;43m*\u001b[39;49m\u001b[43mkwargs\u001b[49m\u001b[43m)\u001b[49m\n",
      "File \u001b[0;32m~/opt/anaconda3/envs/ooasp/lib/python3.9/site-packages/graphviz/backend/rendering.py:324\u001b[0m, in \u001b[0;36mrender\u001b[0;34m(engine, format, filepath, renderer, formatter, neato_no_op, quiet, outfile, raise_if_result_exists, overwrite_filepath)\u001b[0m\n\u001b[1;32m    320\u001b[0m     \u001b[38;5;28;01mraise\u001b[39;00m exceptions\u001b[38;5;241m.\u001b[39mFileExistsError(\u001b[38;5;124mf\u001b[39m\u001b[38;5;124m'\u001b[39m\u001b[38;5;124moutput file exists: \u001b[39m\u001b[38;5;132;01m{\u001b[39;00mos\u001b[38;5;241m.\u001b[39mfspath(outfile)\u001b[38;5;132;01m!r}\u001b[39;00m\u001b[38;5;124m'\u001b[39m)\n\u001b[1;32m    322\u001b[0m cmd \u001b[38;5;241m+\u001b[39m\u001b[38;5;241m=\u001b[39m args\n\u001b[0;32m--> 324\u001b[0m \u001b[43mexecute\u001b[49m\u001b[38;5;241;43m.\u001b[39;49m\u001b[43mrun_check\u001b[49m\u001b[43m(\u001b[49m\u001b[43mcmd\u001b[49m\u001b[43m,\u001b[49m\n\u001b[1;32m    325\u001b[0m \u001b[43m                  \u001b[49m\u001b[43mcwd\u001b[49m\u001b[38;5;241;43m=\u001b[39;49m\u001b[43mfilepath\u001b[49m\u001b[38;5;241;43m.\u001b[39;49m\u001b[43mparent\u001b[49m\u001b[43m \u001b[49m\u001b[38;5;28;43;01mif\u001b[39;49;00m\u001b[43m \u001b[49m\u001b[43mfilepath\u001b[49m\u001b[38;5;241;43m.\u001b[39;49m\u001b[43mparent\u001b[49m\u001b[38;5;241;43m.\u001b[39;49m\u001b[43mparts\u001b[49m\u001b[43m \u001b[49m\u001b[38;5;28;43;01melse\u001b[39;49;00m\u001b[43m \u001b[49m\u001b[38;5;28;43;01mNone\u001b[39;49;00m\u001b[43m,\u001b[49m\n\u001b[1;32m    326\u001b[0m \u001b[43m                  \u001b[49m\u001b[43mquiet\u001b[49m\u001b[38;5;241;43m=\u001b[39;49m\u001b[43mquiet\u001b[49m\u001b[43m,\u001b[49m\n\u001b[1;32m    327\u001b[0m \u001b[43m                  \u001b[49m\u001b[43mcapture_output\u001b[49m\u001b[38;5;241;43m=\u001b[39;49m\u001b[38;5;28;43;01mTrue\u001b[39;49;00m\u001b[43m)\u001b[49m\n\u001b[1;32m    329\u001b[0m \u001b[38;5;28;01mreturn\u001b[39;00m os\u001b[38;5;241m.\u001b[39mfspath(outfile)\n",
      "File \u001b[0;32m~/opt/anaconda3/envs/ooasp/lib/python3.9/site-packages/graphviz/backend/execute.py:93\u001b[0m, in \u001b[0;36mrun_check\u001b[0;34m(cmd, input_lines, encoding, quiet, **kwargs)\u001b[0m\n\u001b[1;32m     91\u001b[0m     proc\u001b[38;5;241m.\u001b[39mcheck_returncode()\n\u001b[1;32m     92\u001b[0m \u001b[38;5;28;01mexcept\u001b[39;00m subprocess\u001b[38;5;241m.\u001b[39mCalledProcessError \u001b[38;5;28;01mas\u001b[39;00m e:\n\u001b[0;32m---> 93\u001b[0m     \u001b[38;5;28;01mraise\u001b[39;00m CalledProcessError(\u001b[38;5;241m*\u001b[39me\u001b[38;5;241m.\u001b[39margs)\n\u001b[1;32m     95\u001b[0m \u001b[38;5;28;01mreturn\u001b[39;00m proc\n",
      "\u001b[0;31mCalledProcessError\u001b[0m: Command '[PosixPath('dot'), '-Kdot', '-Tpng', '-O', 'racks_v1']' returned non-zero exit status 1. [stderr: b'Error: syntax error in line 1 \\n... <B></B> ...\\nin label of node moduleI\\nError: syntax error in line 1 \\n... <B></B> ...\\nin label of node rackSingle\\nError: syntax error in line 1 \\n... <B></B> ...\\nin label of node rack\\nError: syntax error in line 1 \\n... <B></B> ...\\nin label of node elementA\\nError: syntax error in line 1 \\n... <B></B> ...\\nin label of node moduleII\\nError: syntax error in line 1 \\n... <B></B> ...\\nin label of node element\\nError: syntax error in line 1 \\n... <B></B> ...\\nin label of node elementB\\nError: syntax error in line 1 \\n... <B></B> ...\\nin label of node frame\\nError: syntax error in line 1 \\n... <B></B> ...\\nin label of node moduleIII\\nError: syntax error in line 1 \\n... <B></B> ...\\nin label of node object\\nError: syntax error in line 1 \\n... <B></B> ...\\nin label of node moduleIV\\nError: syntax error in line 1 \\n... <B></B> ...\\nin label of node rackDouble\\nError: syntax error in line 1 \\n... <B></B> ...\\nin label of node module\\nError: syntax error in line 1 \\n... <B></B> ...\\nin label of node moduleV\\nError: syntax error in line 1 \\n... <B></B> ...\\nin label of node elementD\\nError: syntax error in line 1 \\n... <B></B> ...\\nin label of node elementC\\n']"
     ]
    }
   ],
   "source": [
    "racks_kb.save_png(\"examples/racks\")"
   ]
  },
  {
   "cell_type": "code",
   "execution_count": null,
   "id": "699dce56-889e-405c-91a0-b6f9c2e13504",
   "metadata": {},
   "outputs": [],
   "source": [
    "from IPython.display import Image\n",
    "Image(\"examples/racks/racks_v1.png\")"
   ]
  },
  {
   "cell_type": "markdown",
   "id": "06c257aa-dcdf-4f11-ba6d-4376037eb1a8",
   "metadata": {},
   "source": [
    "Query the factbase like a database"
   ]
  },
  {
   "cell_type": "code",
   "execution_count": 7,
   "id": "135e8b04-4872-435a-a670-25036f96b9d5",
   "metadata": {},
   "outputs": [],
   "source": [
    "clorm_class = racks_kb.UNIFIERS.Class\n",
    "clorm_subclass = racks_kb.UNIFIERS.SubClass\n",
    "q = racks_kb.fb.query(clorm_class,clorm_subclass).join(clorm_class.name==clorm_subclass.sub_class)\n",
    "q = q.where(clorm_subclass.super_class==\"rack\").select(clorm_class)"
   ]
  },
  {
   "cell_type": "code",
   "execution_count": 8,
   "id": "b5e8c55a-8304-4682-a67c-90cc9e61ff3d",
   "metadata": {},
   "outputs": [
    {
     "name": "stdout",
     "output_type": "stream",
     "text": [
      "[ooasp_class(racks_v1,rackSingle), ooasp_class(racks_v1,rackDouble)]\n"
     ]
    }
   ],
   "source": [
    "print(list(q.all()))"
   ]
  },
  {
   "cell_type": "code",
   "execution_count": 9,
   "id": "25d6eab0-ec7b-4ea7-8687-51e95fc6a5ff",
   "metadata": {},
   "outputs": [
    {
     "name": "stdout",
     "output_type": "stream",
     "text": [
      "['rackSingle', 'rackDouble']\n"
     ]
    }
   ],
   "source": [
    "print([c.name for c in q.all()])"
   ]
  },
  {
   "cell_type": "markdown",
   "id": "1ab502e1-e932-4eb1-b9af-b1ccb53c1e39",
   "metadata": {},
   "source": [
    "#### Metro example"
   ]
  },
  {
   "cell_type": "code",
   "execution_count": 10,
   "id": "1bca456b-d55d-412d-bb59-30e83e7f0f52",
   "metadata": {},
   "outputs": [],
   "source": [
    "metro_kb = OOASPKnowledgeBase.from_file(\"metro_v1\",\"./examples/metro/kb.lp\")"
   ]
  },
  {
   "cell_type": "code",
   "execution_count": 11,
   "id": "1f21f938-d09b-425a-b946-3e41f8588d53",
   "metadata": {},
   "outputs": [
    {
     "name": "stdout",
     "output_type": "stream",
     "text": [
      "%---- OOASPKnowledgeBase (metro_v1) ------\n",
      "ooasp_assoc(metro_v1,wagon_handrail,wagon,1,1,handrail,0,1).\n",
      "ooasp_assoc(metro_v1,wagon_seats,wagon,1,1,seat,0,80).\n",
      "ooasp_attribute(metro_v1,wagon,nr_passengers,int).\n",
      "ooasp_attribute(metro_v1,wagon,nr_seats,int).\n",
      "ooasp_attribute(metro_v1,wagon,standing_room,int).\n",
      "ooasp_attribute(metro_v1,seat,seat_type,str).\n",
      "ooasp_attribute(metro_v1,seat,seat_color,str).\n",
      "ooasp_attribute(metro_v1,handrail,handrail_type,str).\n",
      "ooasp_attribute_enum(metro_v1,seat,seat_type,standard).\n",
      "ooasp_attribute_enum(metro_v1,seat,seat_type,premium).\n",
      "ooasp_attribute_enum(metro_v1,seat,seat_type,special).\n",
      "ooasp_attribute_enum(metro_v1,seat,seat_color,blue).\n",
      "ooasp_attribute_enum(metro_v1,seat,seat_color,red).\n",
      "ooasp_attribute_enum(metro_v1,seat,seat_color,white).\n",
      "ooasp_attribute_enum(metro_v1,handrail,handrail_type,standard).\n",
      "ooasp_attribute_enum(metro_v1,handrail,handrail_type,premium).\n",
      "ooasp_attribute_maxInclusive(metro_v1,wagon,nr_passengers,200).\n",
      "ooasp_attribute_maxInclusive(metro_v1,wagon,nr_seats,200).\n",
      "ooasp_attribute_maxInclusive(metro_v1,wagon,standing_room,200).\n",
      "ooasp_attribute_minInclusive(metro_v1,wagon,nr_passengers,50).\n",
      "ooasp_attribute_minInclusive(metro_v1,wagon,nr_seats,0).\n",
      "ooasp_attribute_minInclusive(metro_v1,wagon,standing_room,0).\n",
      "ooasp_class(metro_v1,object).\n",
      "ooasp_class(metro_v1,wagon).\n",
      "ooasp_class(metro_v1,handrail).\n",
      "ooasp_class(metro_v1,seat).\n",
      "ooasp_kb(metro_v1).\n",
      "ooasp_subclass(metro_v1,wagon,object).\n",
      "ooasp_subclass(metro_v1,handrail,object).\n",
      "ooasp_subclass(metro_v1,seat,object).\n",
      "\n"
     ]
    }
   ],
   "source": [
    "print(metro_kb)"
   ]
  },
  {
   "cell_type": "code",
   "execution_count": 12,
   "id": "172f67d6-db86-448b-b46f-c3f1964b72c2",
   "metadata": {},
   "outputs": [],
   "source": [
    "metro_kb.save_png(\"examples/metro\")"
   ]
  },
  {
   "cell_type": "code",
   "execution_count": 13,
   "id": "0d11544c-6d21-4e4a-aaa4-a0175dc95c88",
   "metadata": {},
   "outputs": [
    {
     "data": {
      "image/png": "[encoded data removed]",
      "text/plain": [
       "<IPython.core.display.Image object>"
      ]
     },
     "execution_count": 13,
     "metadata": {},
     "output_type": "execute_result"
    },
    {
     "ename": "",
     "evalue": "",
     "output_type": "error",
     "traceback": [
      "\u001b[1;31mThe Kernel crashed while executing code in the the current cell or a previous cell. Please review the code in the cell(s) to identify a possible cause of the failure. Click <a href='https://aka.ms/vscodeJupyterKernelCrash'>here</a> for more info. View Jupyter <a href='command:jupyter.viewOutput'>log</a> for further details."
     ]
    }
   ],
   "source": [
    "from IPython.display import Image\n",
    "Image(\"examples/metro/v1.png\")"
   ]
  },
  {
   "cell_type": "code",
   "execution_count": null,
   "id": "0a010203-f6a7-4f45-a323-6dcf7c4da54a",
   "metadata": {},
   "outputs": [],
   "source": []
  },
  {
   "cell_type": "code",
   "execution_count": null,
   "id": "cd1aa718",
   "metadata": {},
   "outputs": [],
   "source": []
  }
 ],
 "metadata": {
  "kernelspec": {
   "display_name": "Python 3 (ipykernel)",
   "language": "python",
   "name": "python3"
  },
  "language_info": {
   "codemirror_mode": {
    "name": "ipython",
    "version": 3
   },
   "file_extension": ".py",
   "mimetype": "text/x-python",
   "name": "python",
   "nbconvert_exporter": "python",
   "pygments_lexer": "ipython3",
   "version": "3.9.16"
  },
  "vscode": {
   "interpreter": {
    "hash": "3335a44cbf2b74f58680e2551700befa5bcda97c93e395440ba937aba7deda85"
   }
  }
 },
 "nbformat": 4,
 "nbformat_minor": 5
}
