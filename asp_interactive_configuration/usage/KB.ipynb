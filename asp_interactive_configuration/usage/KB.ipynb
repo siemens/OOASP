{
 "cells": [
  {
   "attachments": {},
   "cell_type": "markdown",
   "id": "920b3138-bb1e-4792-a306-175fd47a7c63",
   "metadata": {},
   "source": [
    "# Load and render Knowledge Bases\n",
    "Copyright (c) 2022 Siemens AG Oesterreich\n",
    "SPDX-License-Identifier: MIT\n",
    "\n",
    "\n",
    "- How to load a knowledge base from a list of facts with the clorm integration.\n",
    "- How to render a knowledge based with the clingraph integration"
   ]
  },
  {
   "cell_type": "code",
   "execution_count": null,
   "id": "e964b3d8-2994-4d9d-8b10-a809a262266c",
   "metadata": {},
   "outputs": [],
   "source": [
    "%cd .."
   ]
  },
  {
   "cell_type": "markdown",
   "id": "46c83134-2ead-4f47-8f93-b6b962f689c3",
   "metadata": {},
   "source": [
    "### Knowledge Base\n",
    "\n",
    "Import the `OOASPKnowledgeBase` classs"
   ]
  },
  {
   "cell_type": "code",
   "execution_count": null,
   "id": "250072bb-f5b1-46a5-b1bd-60e2e4d0f527",
   "metadata": {},
   "outputs": [],
   "source": [
    "from ooasp.kb import OOASPKnowledgeBase"
   ]
  },
  {
   "cell_type": "markdown",
   "id": "08285908-c554-49b2-9a9f-e02f006e1bad",
   "metadata": {},
   "source": [
    "Create an `OOASPKnowledgeBase` from a logic program"
   ]
  },
  {
   "cell_type": "markdown",
   "id": "49d97d2d-89b3-4c3e-9ac2-6d115f2867ff",
   "metadata": {},
   "source": [
    "#### Racks example"
   ]
  },
  {
   "cell_type": "code",
   "execution_count": null,
   "id": "1d1e2028-644f-4769-bcb4-0d450c22242e",
   "metadata": {},
   "outputs": [],
   "source": [
    "racks_kb = OOASPKnowledgeBase.from_file(\"racks_v1\",\"./examples/racks/kb.lp\")"
   ]
  },
  {
   "cell_type": "markdown",
   "id": "d36b8e32-a445-4381-a8ea-e54e890abb13",
   "metadata": {},
   "source": [
    "Print the object (This uses the asp string representation of the factbase)"
   ]
  },
  {
   "cell_type": "code",
   "execution_count": null,
   "id": "51882435-b617-4e54-9d69-ec21f8f1f02c",
   "metadata": {},
   "outputs": [],
   "source": [
    "print(racks_kb)"
   ]
  },
  {
   "cell_type": "code",
   "execution_count": null,
   "id": "71ed36f2-6f15-4672-b1f1-a646732106d6",
   "metadata": {},
   "outputs": [],
   "source": [
    "racks_kb.save_png(\"examples/racks\")"
   ]
  },
  {
   "cell_type": "code",
   "execution_count": null,
   "id": "699dce56-889e-405c-91a0-b6f9c2e13504",
   "metadata": {},
   "outputs": [],
   "source": [
    "from IPython.display import Image\n",
    "Image(\"examples/racks/racks_v1.png\")"
   ]
  },
  {
   "cell_type": "markdown",
   "id": "06c257aa-dcdf-4f11-ba6d-4376037eb1a8",
   "metadata": {},
   "source": [
    "Query the factbase like a database"
   ]
  },
  {
   "cell_type": "code",
   "execution_count": null,
   "id": "135e8b04-4872-435a-a670-25036f96b9d5",
   "metadata": {},
   "outputs": [],
   "source": [
    "clorm_class = racks_kb.UNIFIERS.Class\n",
    "clorm_subclass = racks_kb.UNIFIERS.SubClass\n",
    "q = racks_kb.fb.query(clorm_class,clorm_subclass).join(clorm_class.name==clorm_subclass.sub_class)\n",
    "q = q.where(clorm_subclass.super_class==\"rack\").select(clorm_class)"
   ]
  },
  {
   "cell_type": "code",
   "execution_count": null,
   "id": "b5e8c55a-8304-4682-a67c-90cc9e61ff3d",
   "metadata": {},
   "outputs": [],
   "source": [
    "print(list(q.all()))"
   ]
  },
  {
   "cell_type": "code",
   "execution_count": null,
   "id": "25d6eab0-ec7b-4ea7-8687-51e95fc6a5ff",
   "metadata": {},
   "outputs": [],
   "source": [
    "print([c.name for c in q.all()])"
   ]
  },
  {
   "cell_type": "markdown",
   "id": "1ab502e1-e932-4eb1-b9af-b1ccb53c1e39",
   "metadata": {},
   "source": [
    "#### Metro example"
   ]
  },
  {
   "cell_type": "code",
   "execution_count": null,
   "id": "1bca456b-d55d-412d-bb59-30e83e7f0f52",
   "metadata": {},
   "outputs": [],
   "source": [
    "metro_kb = OOASPKnowledgeBase.from_file(\"metro_v1\",\"./examples/metro/kb.lp\")"
   ]
  },
  {
   "cell_type": "code",
   "execution_count": null,
   "id": "1f21f938-d09b-425a-b946-3e41f8588d53",
   "metadata": {},
   "outputs": [],
   "source": [
    "print(metro_kb)"
   ]
  },
  {
   "cell_type": "code",
   "execution_count": null,
   "id": "172f67d6-db86-448b-b46f-c3f1964b72c2",
   "metadata": {},
   "outputs": [],
   "source": [
    "metro_kb.save_png(\"examples/metro\")"
   ]
  },
  {
   "cell_type": "code",
   "execution_count": null,
   "id": "0d11544c-6d21-4e4a-aaa4-a0175dc95c88",
   "metadata": {},
   "outputs": [],
   "source": [
    "from IPython.display import Image\n",
    "Image(\"examples/metro/v1.png\")"
   ]
  }
 ],
 "metadata": {
  "kernelspec": {
   "display_name": ".venv",
   "language": "python",
   "name": "python3"
  },
  "language_info": {
   "codemirror_mode": {
    "name": "ipython",
    "version": 3
   },
   "file_extension": ".py",
   "mimetype": "text/x-python",
   "name": "python",
   "nbconvert_exporter": "python",
   "pygments_lexer": "ipython3",
   "version": "3.9.6 (tags/v3.9.6:db3ff76, Jun 28 2021, 15:26:21) [MSC v.1929 64 bit (AMD64)]"
  },
  "vscode": {
   "interpreter": {
    "hash": "3335a44cbf2b74f58680e2551700befa5bcda97c93e395440ba937aba7deda85"
   }
  }
 },
 "nbformat": 4,
 "nbformat_minor": 5
}
